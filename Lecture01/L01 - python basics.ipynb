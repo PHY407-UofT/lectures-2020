{
 "cells": [
  {
   "cell_type": "markdown",
   "metadata": {
    "slideshow": {
     "slide_type": "skip"
    }
   },
   "source": [
    "**Author: Nico Grisouard, nicolas.grisouard@physics.utoronto.ca**\n",
    "\n",
    "*Supporting textbook chapters for week 1: 2, 3 and 4.3*\n",
    "\n",
    "This is an example of \"lecture notes\".\n",
    "As you will quickly find out, this course is by nature a lab course.\n",
    "Therefore, my \"lecture notes\" will not often follow the linear progression of regular lecture notes.\n",
    "This is particularly true for this first lecture, in which I merely want to give you pointers to do the first lab."
   ]
  },
  {
   "cell_type": "markdown",
   "metadata": {
    "slideshow": {
     "slide_type": "slide"
    }
   },
   "source": [
    "# Typical approach for solving a problem"
   ]
  },
  {
   "cell_type": "markdown",
   "metadata": {
    "slideshow": {
     "slide_type": "subslide"
    }
   },
   "source": [
    "1. Start with math model, often but not always continuous.\n",
    "2. **Discretize:** set up discrete arrays of independent variables (e.g., $x$, $t$), dependent variables (e.g. $v(t)$, $a(t)$), and define operators on these variables ($dv/dt$, $ma$...).\n",
    "3. **Initialize** parameters and variables appropriately.\n",
    "4. **Evalutize:** run algorithm to operate on these variables.\n",
    "5. **Analyze:** some extra processing of the raw results, figures...\n",
    "\n",
    "See example:"
   ]
  },
  {
   "cell_type": "code",
   "execution_count": 6,
   "metadata": {
    "slideshow": {
     "slide_type": "subslide"
    }
   },
   "outputs": [],
   "source": [
    "# Example to illustrate general procedure for mathematical modeling.\n",
    "# Given position x(t) of a particle undergoing SHO,\n",
    "# calculate velocity and acceleration using simple finite difference\n",
    "  # import numpy\n",
    "  # import figure functions"
   ]
  },
  {
   "cell_type": "code",
   "execution_count": 7,
   "metadata": {
    "slideshow": {
     "slide_type": "fragment"
    }
   },
   "outputs": [],
   "source": [
    "# 2. Discretize\n",
    "\n",
    "# Define time grid and dependent variables\n",
    "  # time array: linear space from 0 to 10s, 101 elements\n",
    "  # number of time steps (length of time array)\n",
    "x =   # array of positions (empty array of length N)\n",
    "v =   # array of velocities (empty array of length N-1)\n",
    "a =   # array of accelerations (empty array of length N-2)"
   ]
  },
  {
   "cell_type": "code",
   "execution_count": 8,
   "metadata": {
    "slideshow": {
     "slide_type": "subslide"
    }
   },
   "outputs": [],
   "source": [
    "# 3. Initialize: define signal on discretized grid\n",
    "x = 3.0*np.sin(t)"
   ]
  },
  {
   "cell_type": "code",
   "execution_count": 9,
   "metadata": {
    "slideshow": {
     "slide_type": "fragment"
    }
   },
   "outputs": [],
   "source": [
    "# 2. discretize and 4. evalutize (here, apply algorithm)\n",
    "# Define velocity using finite differences: v = Delta x/Delta t\n",
    "for k in range(len(x)-1):\n",
    "    v[k] = (x[k+1]-x[k])/(t[k+1]-t[k])\n",
    "\n",
    "# Define acceleration using finite differences: a = Delta v/Delta t\n",
    "for k in range(len(x)-2):\n",
    "    a[k] = (v[k+1]-v[k])/(t[k+1]-t[k])"
   ]
  },
  {
   "cell_type": "code",
   "execution_count": 10,
   "metadata": {
    "slideshow": {
     "slide_type": "subslide"
    }
   },
   "outputs": [
    {
     "name": "stdout",
     "output_type": "stream",
     "text": [
      "t is  [  0.    0.1   0.2   0.3   0.4   0.5   0.6   0.7   0.8   0.9   1.    1.1\n",
      "   1.2   1.3   1.4   1.5   1.6   1.7   1.8   1.9   2.    2.1   2.2   2.3\n",
      "   2.4   2.5   2.6   2.7   2.8   2.9   3.    3.1   3.2   3.3   3.4   3.5\n",
      "   3.6   3.7   3.8   3.9   4.    4.1   4.2   4.3   4.4   4.5   4.6   4.7\n",
      "   4.8   4.9   5.    5.1   5.2   5.3   5.4   5.5   5.6   5.7   5.8   5.9\n",
      "   6.    6.1   6.2   6.3   6.4   6.5   6.6   6.7   6.8   6.9   7.    7.1\n",
      "   7.2   7.3   7.4   7.5   7.6   7.7   7.8   7.9   8.    8.1   8.2   8.3\n",
      "   8.4   8.5   8.6   8.7   8.8   8.9   9.    9.1   9.2   9.3   9.4   9.5\n",
      "   9.6   9.7   9.8   9.9  10. ]\n"
     ]
    }
   ],
   "source": [
    "# 5. Analyze\n",
    "# print results\n",
    "print(\"t is \", t)"
   ]
  },
  {
   "cell_type": "code",
   "execution_count": 11,
   "metadata": {
    "slideshow": {
     "slide_type": "subslide"
    }
   },
   "outputs": [
    {
     "name": "stdout",
     "output_type": "stream",
     "text": [
      "x is  [ 0.          0.29950025  0.59600799  0.88656062  1.16825503  1.43827662\n",
      "  1.69392742  1.93265306  2.15206827  2.34998073  2.52441295  2.67362208\n",
      "  2.79611726  2.89067456  2.95634919  2.99248496  2.99872081  2.97499443\n",
      "  2.92154289  2.83890026  2.72789228  2.5896281   2.42548921  2.23711564\n",
      "  2.02638954  1.79541643  1.54650412  1.28213964  1.00496445  0.71774799\n",
      "  0.42336002  0.12474199 -0.17512243 -0.47323708 -0.76662331 -1.05234968\n",
      " -1.32756133 -1.58950842 -1.83557367 -2.06329848 -2.27040749 -2.45483133\n",
      " -2.61472732 -2.74849781 -2.85480622 -2.93259035 -2.98107301 -2.99976977\n",
      " -2.98849383 -2.94735784 -2.87677282 -2.77744405 -2.65036397 -2.49680233\n",
      " -2.31829346 -2.11662098 -1.89379991 -1.65205663 -1.39380654 -1.12162999\n",
      " -0.83824649 -0.54648751 -0.24926821  0.0504417   0.34964761  0.64535996\n",
      "  0.93462409  1.21454976  1.48234005  1.73531929  1.9709598   2.18690712\n",
      "  2.38100359  2.55130986  2.69612429  2.81399993  2.90375902  2.9645047\n",
      "  2.99563004  2.99682403  2.96807474  2.90966943  2.82219167  2.7065155\n",
      "  2.56379672  2.39546134  2.20319129  1.98890769  1.75475158  1.50306257\n",
      "  1.23635546  0.95729509  0.66866974  0.37336327  0.07432628 -0.22545336\n",
      " -0.52298034 -0.81528188 -1.09943739 -1.37260768 -1.63206333]\n"
     ]
    }
   ],
   "source": [
    "print(\"x is \", x)"
   ]
  },
  {
   "cell_type": "code",
   "execution_count": 12,
   "metadata": {
    "slideshow": {
     "slide_type": "subslide"
    }
   },
   "outputs": [
    {
     "name": "stdout",
     "output_type": "stream",
     "text": [
      "a is  [-0.29925075 -0.59551148 -0.88582207 -1.16728181 -1.43707845 -1.69251628\n",
      " -1.93104305 -2.15027548 -2.34802306 -2.52230998 -2.6713948  -2.79378794\n",
      " -2.88826646 -2.95388639 -2.98999205 -2.99622271 -2.9725161  -2.91910908\n",
      " -2.8365353  -2.72561979 -2.5874708  -2.42346864 -2.23525199 -2.02470145\n",
      " -1.79392075 -1.54521579 -1.28107155 -1.00412726 -0.71715006 -0.42300734\n",
      " -0.12463807  0.17497654  0.47284285  0.76598467  1.05147302  1.3264554\n",
      "  1.58818427  1.83404454  2.06157964  2.26851611  2.45278632  2.6125491\n",
      "  2.74620816  2.85242801  2.93014734  2.97858961  2.9972708   2.98600424\n",
      "  2.94490252  2.87437631  2.77513028  2.64815607  2.49472235  2.3163622\n",
      "  2.11485771  1.89222227  1.65068037  1.39264542  1.12069561  0.83754819\n",
      "  0.54603226  0.24906055 -0.05039968 -0.34935634 -0.64482234 -0.9338455\n",
      " -1.21353797 -1.48110518 -1.73387368 -1.96931788 -2.18508531 -2.37902008\n",
      " -2.54918448 -2.69387827 -2.81165571 -2.90134002 -2.9620351  -2.99313451\n",
      " -2.9943275  -2.96560217 -2.90724552 -2.81984063 -2.70426082 -2.56166094\n",
      " -2.39346579 -2.20135591 -1.98725082 -1.75328977 -1.50181043 -1.2353255\n",
      " -0.95649761 -0.6681127  -0.37305224 -0.07426436  0.22526555  0.52254467\n",
      "  0.8146027   1.0985215   1.37146422]\n"
     ]
    }
   ],
   "source": [
    "print(\"a is \", a) "
   ]
  },
  {
   "cell_type": "code",
   "execution_count": 14,
   "metadata": {
    "slideshow": {
     "slide_type": "subslide"
    }
   },
   "outputs": [
    {
     "data": {
      "image/png": "[encoded data removed]",
      "text/plain": [
       "<matplotlib.figure.Figure at 0x7f402cf63710>"
      ]
     },
     "metadata": {},
     "output_type": "display_data"
    }
   ],
   "source": [
    "# plot results\n",
    "plt.figure()\n",
    "\n",
    "plt.subplot(3, 1, 1)\n",
    "plt.plot(t, x)\n",
    "plt.xlabel('t')\n",
    "plt.ylabel('x')\n",
    "\n",
    "plt.subplot(3, 1, 2)\n",
    "plt.plot(t[:N-1], v)\n",
    "plt.xlabel('t')\n",
    "plt.ylabel('v')\n",
    "\n",
    "plt.subplot(3, 1, 3)\n",
    "plt.plot(t[:N-2], a)\n",
    "plt.xlabel('t')\n",
    "plt.ylabel('a')\n",
    "\n",
    "plt.tight_layout()\n",
    "# plt.savefig('T01.pdf')  # saves a pdf figure on disk"
   ]
  },
  {
   "cell_type": "markdown",
   "metadata": {
    "slideshow": {
     "slide_type": "slide"
    }
   },
   "source": [
    "# Pseudo-code\n",
    "\n",
    "\n",
    "## General principles\n",
    "\n",
    "* pseudocode is the planned version of your code, written in plain English ($\\neq$ programming language)\n",
    "* You should write one before starting any code.\n",
    "* It should describe your algorithm.\n",
    "* It helps ensure that your planned logic for the algorithm is sound.\n",
    "* In the previous example: the enunmeration (points 1-5) was the skeleton of one."
   ]
  },
  {
   "cell_type": "markdown",
   "metadata": {
    "slideshow": {
     "slide_type": "subslide"
    }
   },
   "source": [
    "* Real text or comments for your real code in the end.\n",
    "* **Keep a copy of it intact** so you can refer to it when you are coding.\n",
    "* Coding = your pseudocode $\\to$ specific programming language. Be able to take your pseudocode and convert it into any typical programming language."
   ]
  },
  {
   "cell_type": "markdown",
   "metadata": {
    "slideshow": {
     "slide_type": "subslide"
    }
   },
   "source": [
    "* Pseudocode: somewhat personal. You do you.\n",
    "* Concise, logical, step-by-step.\n",
    "* Start with **brief** overview of what this piece of code will do. \n",
    "\n",
    "Examples for sequential stuff:\n",
    "* Input: `READ`, `OBTAIN`, `GET`\n",
    "* Initialize: `SET`, `DEFINE`\n",
    "* Compute: `COMPUTE`, `CALCULATE`, `DETERMINE`\n",
    "* Add one: `INCREMENT`, `BUMP`\n",
    "* Output: `PRINT`, `DISPLAY`, `PLOT`, `WRITE`"
   ]
  },
  {
   "cell_type": "markdown",
   "metadata": {
    "slideshow": {
     "slide_type": "subslide"
    }
   },
   "source": [
    "Examples for conditions and loops:\n",
    "* `WHILE`, `IF-THEN-ELSE`, `REPEAT-UNTIL`, `CASE`, `FOR`\n",
    "\n",
    "Should also include calling functions:\n",
    "* `CALL`"
   ]
  },
  {
   "cell_type": "markdown",
   "metadata": {
    "slideshow": {
     "slide_type": "subslide"
    }
   },
   "source": [
    "## Pseudo-code, example 1\n",
    "\n",
    "Convert polar to Cartesian coordinates from keyboard input:\n",
    "\n",
    "$r$, $\\theta$ ($^\\circ$) $\\to$ $x$, $y$.\n",
    "\n",
    "Let's try:"
   ]
  },
  {
   "cell_type": "markdown",
   "metadata": {
    "slideshow": {
     "slide_type": "fragment"
    }
   },
   "source": [
    "1. From keyboard, read radius $r$ and save.\n",
    "2. From keyboard, read angle $\\theta$ in degrees and save.\n",
    "3. Do the conversion from degrees to angles ($\\theta_r = \\pi \\theta/180$).\n",
    "4. Compute $(x, y) = r(\\cos\\theta_r, \\sin\\theta_r)$.\n",
    "5. Print result to screen."
   ]
  },
  {
   "cell_type": "markdown",
   "metadata": {
    "slideshow": {
     "slide_type": "subslide"
    }
   },
   "source": [
    "Alternative: write the pseudo-code code comments."
   ]
  },
  {
   "cell_type": "code",
   "execution_count": null,
   "metadata": {
    "slideshow": {
     "slide_type": "fragment"
    }
   },
   "outputs": [],
   "source": [
    "#1. From keyboard, read radius $r$ and save.\n",
    "#2. From keyboard, read angle $\\theta$ in degrees and save.\n",
    "#3. Do the conversion from degrees to angles ($\\theta_r = \\pi \\theta/180$).\n",
    "#4. Compute $(x, y) = r(\\cos\\theta_r, \\sin\\theta_r)$.\n",
    "#5. Print result to screen."
   ]
  },
  {
   "cell_type": "code",
   "execution_count": 15,
   "metadata": {
    "slideshow": {
     "slide_type": "subslide"
    }
   },
   "outputs": [],
   "source": [
    "# Re-import numpy, in case I am executing cells in random order\n",
    "import numpy as np"
   ]
  },
  {
   "cell_type": "code",
   "execution_count": 16,
   "metadata": {
    "slideshow": {
     "slide_type": "fragment"
    }
   },
   "outputs": [
    {
     "name": "stdout",
     "output_type": "stream",
     "text": [
      "Enter r:2\n"
     ]
    }
   ],
   "source": [
    "# 1. From keyboard, read the radius and save.\n",
    "r = float(input(\"Enter r:\"))"
   ]
  },
  {
   "cell_type": "code",
   "execution_count": 17,
   "metadata": {
    "slideshow": {
     "slide_type": "fragment"
    }
   },
   "outputs": [
    {
     "name": "stdout",
     "output_type": "stream",
     "text": [
      "Enter theta in degrees:45\n"
     ]
    }
   ],
   "source": [
    "# 2. From keyboard, read de angle $\\theta$ in degrees and save.\n",
    "theta_deg = float(input(\"Enter theta in degrees:\"))"
   ]
  },
  {
   "cell_type": "code",
   "execution_count": 18,
   "metadata": {
    "slideshow": {
     "slide_type": "fragment"
    }
   },
   "outputs": [],
   "source": [
    "# 3. Do the conversion from degrees to angles ($\\theta_r = \\pi \\theta/180$).\n",
    "theta_r = np.pi*theta_deg/180."
   ]
  },
  {
   "cell_type": "code",
   "execution_count": 19,
   "metadata": {
    "slideshow": {
     "slide_type": "fragment"
    }
   },
   "outputs": [],
   "source": [
    "# 4. Compute $(x, y) = r(\\cos\\theta_r, \\sin\\theta_r)$.\n",
    "x = r * np.cos(theta_r)\n",
    "y = r * np.sin(theta_r)"
   ]
  },
  {
   "cell_type": "code",
   "execution_count": 20,
   "metadata": {
    "slideshow": {
     "slide_type": "fragment"
    }
   },
   "outputs": [
    {
     "name": "stdout",
     "output_type": "stream",
     "text": [
      "x =  1.41421356237 y =  1.41421356237\n"
     ]
    }
   ],
   "source": [
    "# 5. Print result to screen.\n",
    "print(\"x = \", x, \"y = \", y)"
   ]
  },
  {
   "cell_type": "markdown",
   "metadata": {
    "slideshow": {
     "slide_type": "subslide"
    }
   },
   "source": [
    "## Pseudo-code, example 2\n",
    "\n",
    "* Number of radioactive atoms of uranium $N$ as a function of time given initial $N_0$ and\n",
    "$$\\frac{dN}{dt} = -\\frac{N}{\\tau}.$$\n",
    "($\\tau =$ decay constant)\n",
    "* Use Euler method for integration."
   ]
  },
  {
   "cell_type": "code",
   "execution_count": null,
   "metadata": {
    "slideshow": {
     "slide_type": "subslide"
    }
   },
   "outputs": [],
   "source": [
    "# Pseudocode:\n",
    "\n",
    "# 1. Define decay constant tau, initial N0, and end time 5*tau\n",
    "# 2. Initialize time and time array with 101 values\n",
    "# 3. Compute dt the time step because we'll need it\n",
    "# 4. Initialize a number array with same number of particles\n",
    "# 5. Increment the N array with Euler: N[i+1] = N[i] - dt*N[i]/tau\n",
    "# 6. Plot N vs. t"
   ]
  },
  {
   "cell_type": "code",
   "execution_count": null,
   "metadata": {
    "slideshow": {
     "slide_type": "subslide"
    }
   },
   "outputs": [],
   "source": [
    "# Code that computes the number of radioactive atoms of uranium N\n",
    "# as fct of time, given tau and N0 and using Euler method.\n",
    "# Author: Nicolas Grisouard\n",
    "\n",
    "# Re-import, in case I am executing cells in random order\n",
    "import numpy as np\n",
    "import matplotlib.pyplot as plt"
   ]
  },
  {
   "cell_type": "code",
   "execution_count": null,
   "metadata": {
    "slideshow": {
     "slide_type": "skip"
    }
   },
   "outputs": [],
   "source": [
    "# I skipped this cell in class: it is a conversion of the \n",
    "# half-life of U238 (which is easily found on Wikipedia)\n",
    "# and the decay rate (which for some reason is not)\n",
    "print(\"{0:1.3e}\".format(4.468e9/np.log(2.)))"
   ]
  },
  {
   "cell_type": "code",
   "execution_count": null,
   "metadata": {
    "slideshow": {
     "slide_type": "fragment"
    }
   },
   "outputs": [],
   "source": [
    "# 1. Define decay constant tau, initial N0, and end time 5*tau\n",
    "tau = 6.446e9  # [s] tau for U238\n",
    "N0 = 1e9  # [1] why not\n",
    "t_end = 5*tau  # [s] the end of the simulation time"
   ]
  },
  {
   "cell_type": "code",
   "execution_count": null,
   "metadata": {
    "slideshow": {
     "slide_type": "fragment"
    }
   },
   "outputs": [],
   "source": [
    "# 2. Initialize time array with 101 values\n",
    "t_array = np.linspace(0, t_end, 101)\n",
    "# 3. Compute dt the time step because we'll need it\n",
    "dt = t_array[1] - t_array[0]\n",
    "# 4. Initialize a number array with same number of elements\n",
    "N_array = 0*t\n",
    "N_array[0] = N0"
   ]
  },
  {
   "cell_type": "code",
   "execution_count": null,
   "metadata": {
    "slideshow": {
     "slide_type": "fragment"
    }
   },
   "outputs": [],
   "source": [
    "# 5. Increment the N array with Euler: N[i+1] = N[i] - dt*N[i]/tau\n",
    "for i in range(len(t_array)-1):  # I end at the second-to-last value\n",
    "    N_array[i+1] = (1. - dt/tau)*N_array[i]"
   ]
  },
  {
   "cell_type": "code",
   "execution_count": null,
   "metadata": {
    "slideshow": {
     "slide_type": "subslide"
    }
   },
   "outputs": [],
   "source": [
    "# 6. Plot N vs. t\n",
    "plt.figure()\n",
    "plt.plot(t_array, N_array)\n",
    "plt.xlabel('t (a)')\n",
    "plt.ylabel('N')\n",
    "plt.grid()"
   ]
  },
  {
   "cell_type": "markdown",
   "metadata": {
    "slideshow": {
     "slide_type": "slide"
    }
   },
   "source": [
    "# Machine error: round-off error.\n",
    "\n",
    "Under what circumstances is the following possible?\n",
    "$$(x+y)+z \\neq x + (y + z)$$\n",
    "\n",
    "Let's try it in Python:"
   ]
  },
  {
   "cell_type": "code",
   "execution_count": 1,
   "metadata": {
    "slideshow": {
     "slide_type": "fragment"
    }
   },
   "outputs": [],
   "source": []
  },
  {
   "cell_type": "code",
   "execution_count": 2,
   "metadata": {
    "slideshow": {
     "slide_type": "fragment"
    }
   },
   "outputs": [
    {
     "data": {
      "text/plain": [
       "1.0"
      ]
     },
     "execution_count": 2,
     "metadata": {},
     "output_type": "execute_result"
    }
   ],
   "source": [
    "(x+y)+z"
   ]
  },
  {
   "cell_type": "code",
   "execution_count": 3,
   "metadata": {
    "slideshow": {
     "slide_type": "fragment"
    }
   },
   "outputs": [
    {
     "data": {
      "text/plain": [
       "0.0"
      ]
     },
     "execution_count": 3,
     "metadata": {},
     "output_type": "execute_result"
    }
   ],
   "source": [
    "x+(y+z)"
   ]
  },
  {
   "cell_type": "markdown",
   "metadata": {
    "slideshow": {
     "slide_type": "fragment"
    }
   },
   "source": [
    "What happened?"
   ]
  },
  {
   "cell_type": "markdown",
   "metadata": {
    "slideshow": {
     "slide_type": "skip"
    }
   },
   "source": [
    "Round-off error!"
   ]
  },
  {
   "cell_type": "markdown",
   "metadata": {
    "slideshow": {
     "slide_type": "slide"
    }
   },
   "source": [
    "# Algorithmic error: instability\n",
    "\n",
    "Consider this system representing phasor rotation in the complex plane:\n",
    "$$\\dot Z = i\\omega Z, \\quad\\text{given}\\quad Z_0 = Z(t=0).$$\n",
    "Solution is\n",
    "$Z(t) = Z_0 \\exp(i\\omega t).$\n",
    "\n",
    "How can we solve it numerically?"
   ]
  },
  {
   "cell_type": "markdown",
   "metadata": {
    "slideshow": {
     "slide_type": "subslide"
    }
   },
   "source": [
    "Taylor expansion:\n",
    "$$\\dot Z(t) = \\frac{Z(t+\\Delta t)-Z(t)}{\\Delta t} + H.O.T. = i\\omega Z(t).$$\n",
    "\n",
    "Suggests algorithm: \n",
    "* Start with $Z(t=0) = Z_{old}$,\n",
    "* $Z_{new} = (1+i\\omega \\Delta t)Z_{old}$,\n",
    "* repeat.\n"
   ]
  },
  {
   "cell_type": "markdown",
   "metadata": {
    "slideshow": {
     "slide_type": "subslide"
    }
   },
   "source": [
    "**Let's code it up and see**"
   ]
  },
  {
   "cell_type": "code",
   "execution_count": 4,
   "metadata": {
    "slideshow": {
     "slide_type": "-"
    }
   },
   "outputs": [
    {
     "name": "stdout",
     "output_type": "stream",
     "text": [
      "t = 0.0, Z = (1+0j), |Z| = 1.0\n"
     ]
    }
   ],
   "source": [
    "# Unstable solution to dz/dt\n",
    "from math import pi\n",
    "\n",
    "Z = complex(1.0, 0.0)  # z0 initial condition\n",
    "omega = 1.0  # angular frequency 2*pi/period\n",
    "dt = 2*pi/(200*omega)  # time step is 200 per period\n",
    "# print initial information\n",
    "print('t = {0}, Z = {1}, |Z| = {2}'.format(0.0, Z, abs(Z)))"
   ]
  },
  {
   "cell_type": "code",
   "execution_count": 5,
   "metadata": {
    "scrolled": true,
    "slideshow": {
     "slide_type": "fragment"
    }
   },
   "outputs": [
    {
     "name": "stdout",
     "output_type": "stream",
     "text": [
      "t = 6.283185307179587\n",
      "Z = (1.1037463174652773+0.03239292018556418j)\n",
      "|Z| = 1.1042215514090952\n"
     ]
    }
   ],
   "source": [
    "for k in range(201):  # update z\n",
    "    Z *= complex(1.0, dt)  # complex(1.0, dt) is 1+i*dt\n",
    "\n",
    "# print final information\n",
    "print('t = {0}'.format(k*dt))\n",
    "print('Z = {0}'.format(Z))\n",
    "print('|Z| = {0}'.format(abs(Z)))"
   ]
  },
  {
   "cell_type": "markdown",
   "metadata": {
    "slideshow": {
     "slide_type": "fragment"
    }
   },
   "source": [
    "What happened? What is the problem? Why did it happen?"
   ]
  },
  {
   "cell_type": "markdown",
   "metadata": {
    "slideshow": {
     "slide_type": "skip"
    }
   },
   "source": [
    "Next time!"
   ]
  }
 ],
 "metadata": {
  "celltoolbar": "Diaporama",
  "kernelspec": {
   "display_name": "Python 3",
   "language": "python",
   "name": "python3"
  },
  "language_info": {
   "codemirror_mode": {
    "name": "ipython",
    "version": 3
   },
   "file_extension": ".py",
   "mimetype": "text/x-python",
   "name": "python",
   "nbconvert_exporter": "python",
   "pygments_lexer": "ipython3",
   "version": "3.8.3"
  },
  "latex_metadata": {
   "affiliation": "PHY407, University of Toronto",
   "author": "Nico Grisouard",
   "title": "Lecture 1: python basics"
  }
 },
 "nbformat": 4,
 "nbformat_minor": 2
}
