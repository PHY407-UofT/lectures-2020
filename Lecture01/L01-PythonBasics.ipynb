{
 "cells": [
  {
   "cell_type": "markdown",
   "metadata": {
    "slideshow": {
     "slide_type": "skip"
    }
   },
   "source": [
    "*Supporting textbook chapters for week 1: 2, 3 and 4.3*\n",
    "\n",
    "This is an example of \"lecture notes\".\n",
    "As you will quickly find out, this course is by nature a lab course.\n",
    "Therefore, my \"lecture notes\" will not often follow the linear progression of regular lecture notes.\n",
    "This is particularly true for this first lecture, in which I merely want to give you pointers to do the first lab."
   ]
  },
  {
   "cell_type": "markdown",
   "metadata": {
    "slideshow": {
     "slide_type": "slide"
    }
   },
   "source": [
    "# Pseudocode\n",
    "\n",
    "\n",
    "## General principles"
   ]
  },
  {
   "cell_type": "markdown",
   "metadata": {
    "slideshow": {
     "slide_type": "skip"
    }
   },
   "source": [
    "The concept of ''Pseudocode'' is loosely defined, see for example https://en.wikipedia.org/wiki/Pseudocode.\n",
    "A CS student once told me that Python *is* pseudocode.\n",
    "I would take the definiteness of their statement with a grain of salt, but it is certainly one way to look at it.\n",
    "\n",
    "In this lecture, I will use a **very** loose definition for it, i.e., mostly plain English with bullet points.\n",
    "You are free to use your own (and probably better) version.\n",
    "Make sure that it is understandable by someone who speaks English and is familiar with the problem you would be trying to solve, though not familiar with Python."
   ]
  },
  {
   "cell_type": "markdown",
   "metadata": {
    "slideshow": {
     "slide_type": "fragment"
    }
   },
   "source": [
    "* Pseudocode is the planned version of your code, written in plain English ($\\neq$ programming language).\n",
    "* You should write one before starting any code.\n",
    "* It should describe your algorithm.\n",
    "* It helps ensure that your planned logic for the algorithm is sound."
   ]
  },
  {
   "cell_type": "markdown",
   "metadata": {
    "slideshow": {
     "slide_type": "subslide"
    }
   },
   "source": [
    "* Real text or comments for your real code in the end.\n",
    "* **Keep a copy of it intact** so you can refer to it when you are coding.\n",
    "* Coding = your pseudocode $\\to$ specific programming language. Be able to take your pseudocode and convert it into any typical programming language."
   ]
  },
  {
   "cell_type": "markdown",
   "metadata": {
    "slideshow": {
     "slide_type": "subslide"
    }
   },
   "source": [
    "* Pseudocode: somewhat personal. You do you.\n",
    "* Concise, logical, step-by-step.\n",
    "* Start with **brief** overview of what this piece of code will do. \n",
    "\n",
    "Examples for sequential stuff:\n",
    "* Input: `READ`, `OBTAIN`, `GET`\n",
    "* Initialize: `SET`, `DEFINE`\n",
    "* Compute: `COMPUTE`, `CALCULATE`, `DETERMINE`\n",
    "* Add one: `INCREMENT`, `BUMP`\n",
    "* Output: `PRINT`, `DISPLAY`, `PLOT`, `WRITE`"
   ]
  },
  {
   "cell_type": "markdown",
   "metadata": {
    "slideshow": {
     "slide_type": "subslide"
    }
   },
   "source": [
    "Examples for conditions and loops:\n",
    "* `WHILE`, `IF-THEN-ELSE`, `REPEAT-UNTIL`, `CASE`, `FOR`\n",
    "\n",
    "Should also include calling functions:\n",
    "* `CALL`"
   ]
  },
  {
   "cell_type": "markdown",
   "metadata": {
    "slideshow": {
     "slide_type": "subslide"
    }
   },
   "source": [
    "## Pseudo-code, example 1\n",
    "\n",
    "Convert polar to Cartesian coordinates from keyboard input:\n",
    "\n",
    "$r$, $\\theta$ ($^\\circ$) $\\to$ $x$, $y$.\n",
    "\n",
    "Let's try:"
   ]
  },
  {
   "cell_type": "code",
   "execution_count": 91,
   "metadata": {
    "slideshow": {
     "slide_type": "fragment"
    }
   },
   "outputs": [],
   "source": [
    "# As code comments\n",
    "# Read radius r from keyboard\n",
    "# Read angle theta in degs from keyboard input\n",
    "# convert degrees into radians\n",
    "# Compute x, y = r*(cos(theta), sin)(theta))\n",
    "# print the result to screen"
   ]
  },
  {
   "cell_type": "markdown",
   "metadata": {
    "slideshow": {
     "slide_type": "subslide"
    }
   },
   "source": [
    "\n",
    "Alternative: typeset the pseudocode in your report."
   ]
  },
  {
   "cell_type": "code",
   "execution_count": 92,
   "metadata": {
    "slideshow": {
     "slide_type": "subslide"
    }
   },
   "outputs": [],
   "source": [
    "import numpy as np  # import numpy"
   ]
  },
  {
   "cell_type": "code",
   "execution_count": 93,
   "metadata": {
    "scrolled": true,
    "slideshow": {
     "slide_type": "fragment"
    }
   },
   "outputs": [
    {
     "name": "stdout",
     "output_type": "stream",
     "text": [
      "Enter r: 3.1\n"
     ]
    }
   ],
   "source": [
    "# From keyboard, read the radius and save.\n",
    "r = float(input(\"Enter r: \"))"
   ]
  },
  {
   "cell_type": "code",
   "execution_count": 94,
   "metadata": {
    "slideshow": {
     "slide_type": "fragment"
    }
   },
   "outputs": [
    {
     "name": "stdout",
     "output_type": "stream",
     "text": [
      "Enter theta in degs: 30.\n"
     ]
    }
   ],
   "source": [
    "# From keyboard, read the angle in degrees and save.\n",
    "theta = float(input(\"Enter theta in degs: \"))"
   ]
  },
  {
   "cell_type": "code",
   "execution_count": 95,
   "metadata": {
    "slideshow": {
     "slide_type": "fragment"
    }
   },
   "outputs": [],
   "source": [
    "# Do the conversion from degrees to angles\n",
    "theta_d = theta/180*np.pi"
   ]
  },
  {
   "cell_type": "code",
   "execution_count": 98,
   "metadata": {
    "slideshow": {
     "slide_type": "fragment"
    }
   },
   "outputs": [],
   "source": [
    "# Compute $(x, y) = r(\\cos\\theta_r, \\sin\\theta_r)$.\n",
    "x = r*np.cos(theta_d)\n",
    "y = r*np.sin(theta_d)"
   ]
  },
  {
   "cell_type": "code",
   "execution_count": 99,
   "metadata": {
    "slideshow": {
     "slide_type": "fragment"
    }
   },
   "outputs": [
    {
     "name": "stdout",
     "output_type": "stream",
     "text": [
      "x = 2.68467875173176, y = 1.5499999999999998\n"
     ]
    }
   ],
   "source": [
    "# Print result to screen.\n",
    "print(\"x = {0}, y = {1}\".format(x, y))"
   ]
  },
  {
   "cell_type": "markdown",
   "metadata": {
    "slideshow": {
     "slide_type": "subslide"
    }
   },
   "source": [
    "## Pseudo-code, example 2\n",
    "\n",
    "* Number of radioactive atoms of uranium $N$ as a function of time given initial $N_0$ and\n",
    "$$\\frac{dN}{dt} = -\\frac{N}{\\tau}.$$\n",
    "($\\tau =$ decay constant)\n",
    "* Use Euler method for integration.\n",
    "* Integrate for $5\\tau$."
   ]
  },
  {
   "cell_type": "code",
   "execution_count": null,
   "metadata": {
    "slideshow": {
     "slide_type": "fragment"
    }
   },
   "outputs": [],
   "source": [
    "# Pseudocode:\n",
    "# Define decay constant tau, initial N0 and duration 5tau\n",
    "# Initialize time and time array, as well as N(t) array\n",
    "# Compute dt\n",
    "# FOR 100 iterations:\n",
    "#     Increment the N array form the previous values according to Euler\n",
    "# Plot N vs. t"
   ]
  },
  {
   "cell_type": "code",
   "execution_count": null,
   "metadata": {
    "slideshow": {
     "slide_type": "subslide"
    }
   },
   "outputs": [],
   "source": [
    "# Code that computes the number of radioactive atoms of uranium N\n",
    "# as fct of time, given tau and N0 and using Euler method.\n",
    "# Author: Nicolas Grisouard\n",
    "\n",
    "# Re-import, in case I am executing cells in random order\n",
    "import numpy as np\n",
    "import matplotlib.pyplot as plt"
   ]
  },
  {
   "cell_type": "code",
   "execution_count": null,
   "metadata": {
    "slideshow": {
     "slide_type": "skip"
    }
   },
   "outputs": [],
   "source": [
    "# I skipped this cell in class: it is a conversion of the \n",
    "# half-life of U238 (which is easily found on Wikipedia)\n",
    "# and the decay rate (which for some reason is not)\n",
    "print(\"{0:1.3e}\".format(4.468e9/np.log(2.)))"
   ]
  },
  {
   "cell_type": "code",
   "execution_count": null,
   "metadata": {
    "slideshow": {
     "slide_type": "fragment"
    }
   },
   "outputs": [],
   "source": [
    "# 1. Define decay constant tau, initial N0, and end time 5*tau\n",
    "tau = 6.446e9  # [s] tau for U238\n",
    "  # [1] initial N\n",
    "  # [s] the end of the simulation time"
   ]
  },
  {
   "cell_type": "code",
   "execution_count": null,
   "metadata": {
    "slideshow": {
     "slide_type": "fragment"
    }
   },
   "outputs": [],
   "source": [
    "# 2. Initialize time array with 101 values\n",
    "\n",
    "# 3. Compute dt the time step because we'll need it\n",
    "\n",
    "# 4. Initialize a number array with same number of elements"
   ]
  },
  {
   "cell_type": "code",
   "execution_count": null,
   "metadata": {
    "slideshow": {
     "slide_type": "fragment"
    }
   },
   "outputs": [],
   "source": [
    "# 5. FOR 101 iterations:\n",
    "#        Increment the N array with Euler: N[i+1] = N[i] - dt*N[i]/tau"
   ]
  },
  {
   "cell_type": "code",
   "execution_count": null,
   "metadata": {
    "slideshow": {
     "slide_type": "subslide"
    }
   },
   "outputs": [],
   "source": [
    "# 6. Plot N vs. t"
   ]
  },
  {
   "cell_type": "markdown",
   "metadata": {
    "slideshow": {
     "slide_type": "slide"
    }
   },
   "source": [
    "# Typical approach for solving a problem"
   ]
  },
  {
   "cell_type": "markdown",
   "metadata": {
    "slideshow": {
     "slide_type": "subslide"
    }
   },
   "source": [
    "1. Start with math model, often but not always continuous.\n",
    "2. **Discretize:** set up discrete arrays of independent variables (e.g., $x$, $t$), dependent variables (e.g. $v(t)$, $a(t)$), and define operators on these variables ($dv/dt$, $ma$...).\n",
    "3. **Initialize** parameters and variables appropriately.\n",
    "4. **Evalutize:** run algorithm to operate on these variables.\n",
    "5. **Analyze:** some extra processing of the raw results, figures...\n",
    "\n",
    "See example: Given position $x(t)$ of a particle undergoing SHO with angular frequecy 0.5 rad/s, initial position 3 m, initial velocity 0 m/s, calculate velocity and acceleration using simple finite difference"
   ]
  },
  {
   "cell_type": "code",
   "execution_count": null,
   "metadata": {
    "slideshow": {
     "slide_type": "subslide"
    }
   },
   "outputs": [],
   "source": [
    "# Example to illustrate general procedure for mathematical modeling.\n",
    "# Given position x(t) of a particle undergoing SHO,\n",
    "# calculate velocity and acceleration using simple finite difference\n",
    "import numpy as np  # import numpy\n",
    "import matplotlib.pyplot as plt  # import figure functions"
   ]
  },
  {
   "cell_type": "code",
   "execution_count": null,
   "metadata": {
    "slideshow": {
     "slide_type": "fragment"
    }
   },
   "outputs": [],
   "source": [
    "# 2. Discretize\n",
    "\n",
    "# Define time grid and dependent variables\n",
    "omega = 0.5  # [rad/s] angular frequency\n",
    "A = 3.  # [m] diplacement amplitude\n",
    "t = np.linspace(0, 10., 101)  # time array: linear space from 0 to 10s, 101 elements\n",
    "N = len(t)  # number of time steps (length of time array)\n",
    "x = np.empty(N)  # array of positions (empty array of length N)\n",
    "v = np.empty(N-1)  # array of velocities (empty array of length N-1)\n",
    "a = np.empty(N-2)  # array of accelerations (empty array of length N-2)"
   ]
  },
  {
   "cell_type": "code",
   "execution_count": null,
   "metadata": {
    "slideshow": {
     "slide_type": "subslide"
    }
   },
   "outputs": [],
   "source": [
    "# 3. Initialize: define signal on discretized grid\n",
    "x = "
   ]
  },
  {
   "cell_type": "code",
   "execution_count": null,
   "metadata": {
    "slideshow": {
     "slide_type": "fragment"
    }
   },
   "outputs": [],
   "source": [
    "# 2. discretize and 4. evalutize (here, apply algorithm)\n",
    "# Define velocity using finite differences: v = Delta x/Delta t\n",
    "dt = t[1] - t[0]\n",
    "for k in range(N-1):\n",
    "    v[k] = (x[k+1] - x[k])/dt\n",
    "\n",
    "# Define acceleration using finite differences: a = Delta v/Delta t\n",
    "for k in range(len(x)-2):\n",
    "    a[k] = (v[k+1]-v[k])/(t[k+1]-t[k])"
   ]
  },
  {
   "cell_type": "code",
   "execution_count": null,
   "metadata": {
    "slideshow": {
     "slide_type": "subslide"
    }
   },
   "outputs": [],
   "source": [
    "# 5. Analyze\n",
    "# print results\n",
    "print(\"t is \", t)"
   ]
  },
  {
   "cell_type": "code",
   "execution_count": null,
   "metadata": {
    "slideshow": {
     "slide_type": "subslide"
    }
   },
   "outputs": [],
   "source": [
    "print(\"x is \", x)"
   ]
  },
  {
   "cell_type": "code",
   "execution_count": null,
   "metadata": {
    "slideshow": {
     "slide_type": "subslide"
    }
   },
   "outputs": [],
   "source": [
    "print(\"a is \", a) "
   ]
  },
  {
   "cell_type": "code",
   "execution_count": null,
   "metadata": {
    "slideshow": {
     "slide_type": "subslide"
    }
   },
   "outputs": [],
   "source": [
    "# plot results\n",
    "print(len(t[:-1]))\n",
    "print(len(v))\n",
    "def plot_da_fig(t, x, v, a, N):\n",
    "    plt.figure()\n",
    "\n",
    "    plt.subplot(3, 1, 1)\n",
    "    plt.plot(t, x)\n",
    "    plt.ylabel('x')\n",
    "\n",
    "    plt.subplot(3, 1, 2)\n",
    "    plt.plot(t[:-1], v)\n",
    "    plt.ylabel('v')\n",
    "\n",
    "    plt.subplot(3, 1, 3)\n",
    "    plt.plot(t[:-2], a)\n",
    "    plt.ylabel('a')\n",
    "\n",
    "    plt.tight_layout()\n",
    "    # plt.savefig('T01.pdf')  # saves a pdf figure on disk"
   ]
  },
  {
   "cell_type": "code",
   "execution_count": null,
   "metadata": {
    "slideshow": {
     "slide_type": "subslide"
    }
   },
   "outputs": [],
   "source": [
    "plot_da_fig(t, x, v, a, N)"
   ]
  },
  {
   "cell_type": "markdown",
   "metadata": {
    "slideshow": {
     "slide_type": "slide"
    }
   },
   "source": [
    "# Your Lab"
   ]
  },
  {
   "cell_type": "markdown",
   "metadata": {
    "slideshow": {
     "slide_type": "fragment"
    }
   },
   "source": [
    "## Modelling an orbit\n",
    "\n",
    "* Mercury's orbit,\n",
    "    * with Newtonian dynamics (ellipse) and \n",
    "    * with a simple General Relativity correction (precessing ellipse).\n",
    "* You will practice a typical workflow for a simulation:\n",
    "    * pseudocode,\n",
    "    * discretizing, initializing, evaluatizoring, analyzing."
   ]
  },
  {
   "cell_type": "markdown",
   "metadata": {
    "slideshow": {
     "slide_type": "subslide"
    }
   },
   "source": [
    "## Logistic map\n",
    "\n",
    "* One of the simplest iterative procedure leading to chaos.\n",
    "* You will \n",
    "    * manipulate arrays, \n",
    "    * practice plotting, random number generation, see some cool physics."
   ]
  },
  {
   "cell_type": "markdown",
   "metadata": {
    "slideshow": {
     "slide_type": "fragment"
    }
   },
   "source": [
    "## Timing matrix multiplication\n",
    "\n",
    "* Title says it all.\n",
    "* You will manipulate some basic techniques to measure performance."
   ]
  },
  {
   "cell_type": "code",
   "execution_count": null,
   "metadata": {},
   "outputs": [],
   "source": []
  }
 ],
 "metadata": {
  "celltoolbar": "Diaporama",
  "kernelspec": {
   "display_name": "Python 3",
   "language": "python",
   "name": "python3"
  },
  "language_info": {
   "codemirror_mode": {
    "name": "ipython",
    "version": 3
   },
   "file_extension": ".py",
   "mimetype": "text/x-python",
   "name": "python",
   "nbconvert_exporter": "python",
   "pygments_lexer": "ipython3",
   "version": "3.8.3"
  },
  "latex_metadata": {
   "affiliation": "PHY407, University of Toronto",
   "author": "Nico Grisouard",
   "title": "Lecture 1: python basics"
  }
 },
 "nbformat": 4,
 "nbformat_minor": 2
}
