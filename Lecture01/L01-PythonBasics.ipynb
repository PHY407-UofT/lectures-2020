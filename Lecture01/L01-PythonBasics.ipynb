{
 "cells": [
  {
   "cell_type": "markdown",
   "metadata": {
    "slideshow": {
     "slide_type": "skip"
    }
   },
   "source": [
    "*Supporting textbook chapters for week 1: 2, 3 and 4.3*\n",
    "\n",
    "This is an example of \"lecture notes\".\n",
    "As you will quickly find out, this course is by nature a lab course.\n",
    "Therefore, my \"lecture notes\" will not often follow the linear progression of regular lecture notes.\n",
    "This is particularly true for this first lecture, in which I merely want to give you pointers to do the first lab."
   ]
  },
  {
   "cell_type": "markdown",
   "metadata": {
    "slideshow": {
     "slide_type": "slide"
    }
   },
   "source": [
    "# Pseudocode\n",
    "\n",
    "\n",
    "## General principles"
   ]
  },
  {
   "cell_type": "markdown",
   "metadata": {
    "slideshow": {
     "slide_type": "skip"
    }
   },
   "source": [
    "The concept of ''Pseudocode'' is loosely defined, see for example https://en.wikipedia.org/wiki/Pseudocode.\n",
    "A CS student once told me that Python *is* pseudocode.\n",
    "I would take the definiteness of their statement with a grain of salt, but it is certainly one way to look at it.\n",
    "\n",
    "In this lecture, I will use a **very** loose definition for it, i.e., mostly plain English with bullet points.\n",
    "You are free to use your own (and probably better) version.\n",
    "Make sure that it is understandable by someone who speaks English and is familiar with the problem you would be trying to solve, though not familiar with Python."
   ]
  },
  {
   "cell_type": "markdown",
   "metadata": {
    "slideshow": {
     "slide_type": "fragment"
    }
   },
   "source": [
    "* Pseudocode is the planned version of your code, written in plain English ($\\neq$ programming language).\n",
    "* You should write one before starting any code.\n",
    "* It should describe your algorithm.\n",
    "* It helps ensure that your planned logic for the algorithm is sound."
   ]
  },
  {
   "cell_type": "markdown",
   "metadata": {
    "slideshow": {
     "slide_type": "subslide"
    }
   },
   "source": [
    "* Real text or comments for your real code in the end.\n",
    "* **Keep a copy of it intact** so you can refer to it when you are coding.\n",
    "* Coding = your pseudocode $\\to$ specific programming language. Be able to take your pseudocode and convert it into any typical programming language."
   ]
  },
  {
   "cell_type": "markdown",
   "metadata": {
    "slideshow": {
     "slide_type": "subslide"
    }
   },
   "source": [
    "* Pseudocode: somewhat personal. You do you.\n",
    "* Concise, logical, step-by-step.\n",
    "* Start with **brief** overview of what this piece of code will do. \n",
    "\n",
    "Examples for sequential stuff:\n",
    "* Input: `READ`, `OBTAIN`, `GET`\n",
    "* Initialize: `SET`, `DEFINE`\n",
    "* Compute: `COMPUTE`, `CALCULATE`, `DETERMINE`\n",
    "* Add one: `INCREMENT`, `BUMP`\n",
    "* Output: `PRINT`, `DISPLAY`, `PLOT`, `WRITE`"
   ]
  },
  {
   "cell_type": "markdown",
   "metadata": {
    "slideshow": {
     "slide_type": "subslide"
    }
   },
   "source": [
    "Examples for conditions and loops:\n",
    "* `WHILE`, `IF-THEN-ELSE`, `REPEAT-UNTIL`, `CASE`, `FOR`\n",
    "\n",
    "Should also include calling functions:\n",
    "* `CALL`"
   ]
  },
  {
   "cell_type": "markdown",
   "metadata": {
    "slideshow": {
     "slide_type": "subslide"
    }
   },
   "source": [
    "## Pseudo-code, example 1\n",
    "\n",
    "Convert polar to Cartesian coordinates from keyboard input:\n",
    "\n",
    "$r$, $\\theta$ ($^\\circ$) $\\to$ $x$, $y$.\n",
    "\n",
    "Let's try:"
   ]
  },
  {
   "cell_type": "code",
   "execution_count": 1,
   "metadata": {
    "slideshow": {
     "slide_type": "fragment"
    }
   },
   "outputs": [],
   "source": [
    "# As code comments\n",
    "# From keyboard, read radius r and save\n",
    "# From keyboard, read angle theta and save\n",
    "# Convert from degrees to radians\n",
    "# Compute (x, y) = r(cos(theta), sin(theta))\n",
    "# Print result to screen"
   ]
  },
  {
   "cell_type": "markdown",
   "metadata": {
    "slideshow": {
     "slide_type": "subslide"
    }
   },
   "source": [
    "\n",
    "Alternative: typeset the pseudocode in your report."
   ]
  },
  {
   "cell_type": "code",
   "execution_count": 17,
   "metadata": {
    "slideshow": {
     "slide_type": "subslide"
    }
   },
   "outputs": [],
   "source": [
    "import numpy as np  # import numpy"
   ]
  },
  {
   "cell_type": "code",
   "execution_count": 18,
   "metadata": {
    "scrolled": true,
    "slideshow": {
     "slide_type": "fragment"
    }
   },
   "outputs": [
    {
     "name": "stdout",
     "output_type": "stream",
     "text": [
      "Enter r: 3\n"
     ]
    }
   ],
   "source": [
    "# From keyboard, read the radius and save.\n"
   ]
  },
  {
   "cell_type": "code",
   "execution_count": 19,
   "metadata": {
    "slideshow": {
     "slide_type": "fragment"
    }
   },
   "outputs": [
    {
     "name": "stdout",
     "output_type": "stream",
     "text": [
      "Enter theta in degrees: 45\n"
     ]
    }
   ],
   "source": [
    "# From keyboard, read the angle in degrees and save.\n"
   ]
  },
  {
   "cell_type": "code",
   "execution_count": 21,
   "metadata": {
    "slideshow": {
     "slide_type": "fragment"
    }
   },
   "outputs": [
    {
     "name": "stdout",
     "output_type": "stream",
     "text": [
      "theta in radians =  0.7853981633974483\n"
     ]
    }
   ],
   "source": [
    "# Do the conversion from degrees to angles\n"
   ]
  },
  {
   "cell_type": "code",
   "execution_count": 22,
   "metadata": {
    "slideshow": {
     "slide_type": "fragment"
    }
   },
   "outputs": [],
   "source": [
    "# Compute $(x, y) = r(\\cos\\theta_r, \\sin\\theta_r)$.\n"
   ]
  },
  {
   "cell_type": "code",
   "execution_count": 23,
   "metadata": {
    "slideshow": {
     "slide_type": "fragment"
    }
   },
   "outputs": [
    {
     "name": "stdout",
     "output_type": "stream",
     "text": [
      "x = 2.121320343559643, y = 2.1213203435596424\n"
     ]
    }
   ],
   "source": [
    "# Print result to screen.\n"
   ]
  },
  {
   "cell_type": "markdown",
   "metadata": {
    "slideshow": {
     "slide_type": "subslide"
    }
   },
   "source": [
    "## Pseudo-code, example 2\n",
    "\n",
    "* Number of radioactive atoms of uranium $N$ as a function of time given initial $N_0$ and\n",
    "$$\\frac{dN}{dt} = -\\frac{N}{\\tau}.$$\n",
    "($\\tau =$ decay constant)\n",
    "* Use Euler method for integration.\n",
    "* Integrate for $5\\tau$."
   ]
  },
  {
   "cell_type": "code",
   "execution_count": 24,
   "metadata": {
    "slideshow": {
     "slide_type": "fragment"
    }
   },
   "outputs": [],
   "source": [
    "# Pseudocode:\n",
    "# Define decay constant tau, initial N0 and duration 5tau\n",
    "# Initialize time and time array, as well as N(t) array\n",
    "# Compute dt\n",
    "# FOR 100 iterations:\n",
    "#     Increment the N array form the previous values according to Euler\n",
    "# Plot N vs. t"
   ]
  },
  {
   "cell_type": "code",
   "execution_count": 26,
   "metadata": {
    "slideshow": {
     "slide_type": "subslide"
    }
   },
   "outputs": [],
   "source": [
    "# Code that computes the number of radioactive atoms of uranium N\n",
    "# as fct of time, given tau and N0 and using Euler method.\n",
    "# Author: Nicolas Grisouard\n",
    "\n",
    "# Re-import, in case I am executing cells in random order\n",
    "import numpy as np\n",
    "import matplotlib.pyplot as plt"
   ]
  },
  {
   "cell_type": "code",
   "execution_count": null,
   "metadata": {
    "slideshow": {
     "slide_type": "skip"
    }
   },
   "outputs": [],
   "source": [
    "# I skipped this cell in class: it is a conversion of the \n",
    "# half-life of U238 (which is easily found on Wikipedia)\n",
    "# and the decay rate (which for some reason is not)\n",
    "print(\"{0:1.3e}\".format(4.468e9/np.log(2.)))"
   ]
  },
  {
   "cell_type": "code",
   "execution_count": 29,
   "metadata": {
    "slideshow": {
     "slide_type": "fragment"
    }
   },
   "outputs": [],
   "source": [
    "# 1. Define decay constant tau, initial N0, and end time 5*tau\n",
    "tau = 6.446e9  # [s] tau for U238\n",
    "  # [1] initial N\n",
    "  # [s] the end of the simulation time"
   ]
  },
  {
   "cell_type": "code",
   "execution_count": 46,
   "metadata": {
    "slideshow": {
     "slide_type": "fragment"
    }
   },
   "outputs": [],
   "source": [
    "# 2. Initialize time array with 101 values\n",
    "\n",
    "# 3. Compute dt the time step because we'll need it\n",
    "\n",
    "# 4. Initialize a number array with same number of elements"
   ]
  },
  {
   "cell_type": "code",
   "execution_count": 45,
   "metadata": {
    "slideshow": {
     "slide_type": "fragment"
    }
   },
   "outputs": [],
   "source": [
    "# 5. FOR 101 iterations:\n",
    "#        Increment the N array with Euler: N[i+1] = N[i] - dt*N[i]/tau"
   ]
  },
  {
   "cell_type": "code",
   "execution_count": 44,
   "metadata": {
    "slideshow": {
     "slide_type": "subslide"
    }
   },
   "outputs": [],
   "source": [
    "# 6. Plot N vs. t"
   ]
  },
  {
   "cell_type": "markdown",
   "metadata": {
    "slideshow": {
     "slide_type": "slide"
    }
   },
   "source": [
    "# Typical approach for solving a problem"
   ]
  },
  {
   "cell_type": "markdown",
   "metadata": {
    "slideshow": {
     "slide_type": "subslide"
    }
   },
   "source": [
    "1. Start with math model, often but not always continuous.\n",
    "2. **Discretize:** set up discrete arrays of independent variables (e.g., $x$, $t$), dependent variables (e.g. $v(t)$, $a(t)$), and define operators on these variables ($dv/dt$, $ma$...).\n",
    "3. **Initialize** parameters and variables appropriately.\n",
    "4. **Evalutize:** run algorithm to operate on these variables.\n",
    "5. **Analyze:** some extra processing of the raw results, figures...\n",
    "\n",
    "See example: Given position $x(t)$ of a particle undergoing SHO with angular frequecy 0.5 rad/s, initial position 3 m, initial velocity 0 m/s, calculate velocity and acceleration using simple finite difference"
   ]
  },
  {
   "cell_type": "code",
   "execution_count": 51,
   "metadata": {
    "slideshow": {
     "slide_type": "subslide"
    }
   },
   "outputs": [],
   "source": [
    "# Example to illustrate general procedure for mathematical modeling.\n",
    "# Given position x(t) of a particle undergoing SHO,\n",
    "# calculate velocity and acceleration using simple finite difference\n",
    "import numpy as np  # import numpy\n",
    "import matplotlib.pyplot as plt  # import figure functions"
   ]
  },
  {
   "cell_type": "code",
   "execution_count": 75,
   "metadata": {
    "slideshow": {
     "slide_type": "fragment"
    }
   },
   "outputs": [],
   "source": [
    "# 2. Discretize\n",
    "\n",
    "# Define time grid and dependent variables\n",
    "omega = 0.5  # [rad/s] angular frequency\n",
    "A = 3.  # [m] diplacement amplitude\n",
    "t = np.linspace(0, 10., 101)  # time array: linear space from 0 to 10s, 101 elements\n",
    "N = len(t)  # number of time steps (length of time array)\n",
    "x = np.empty(N)  # array of positions (empty array of length N)\n",
    "v = np.empty(N-1)  # array of velocities (empty array of length N-1)\n",
    "a = np.empty(N-2)  # array of accelerations (empty array of length N-2)"
   ]
  },
  {
   "cell_type": "code",
   "execution_count": 84,
   "metadata": {
    "slideshow": {
     "slide_type": "subslide"
    }
   },
   "outputs": [
    {
     "ename": "SyntaxError",
     "evalue": "invalid syntax (<ipython-input-84-24346ab182a2>, line 2)",
     "output_type": "error",
     "traceback": [
      "\u001b[0;36m  File \u001b[0;32m\"<ipython-input-84-24346ab182a2>\"\u001b[0;36m, line \u001b[0;32m2\u001b[0m\n\u001b[0;31m    x =\u001b[0m\n\u001b[0m        ^\u001b[0m\n\u001b[0;31mSyntaxError\u001b[0m\u001b[0;31m:\u001b[0m invalid syntax\n"
     ]
    }
   ],
   "source": [
    "# 3. Initialize: define signal on discretized grid\n",
    "x = "
   ]
  },
  {
   "cell_type": "code",
   "execution_count": 85,
   "metadata": {
    "slideshow": {
     "slide_type": "fragment"
    }
   },
   "outputs": [],
   "source": [
    "# 2. discretize and 4. evalutize (here, apply algorithm)\n",
    "# Define velocity using finite differences: v = Delta x/Delta t\n",
    "dt = t[1] - t[0]\n",
    "for k in range(N-1):\n",
    "    v[k] = (x[k+1] - x[k])/dt\n",
    "\n",
    "# Define acceleration using finite differences: a = Delta v/Delta t\n",
    "for k in range(len(x)-2):\n",
    "    a[k] = (v[k+1]-v[k])/(t[k+1]-t[k])"
   ]
  },
  {
   "cell_type": "code",
   "execution_count": 86,
   "metadata": {
    "slideshow": {
     "slide_type": "subslide"
    }
   },
   "outputs": [
    {
     "name": "stdout",
     "output_type": "stream",
     "text": [
      "t is  [ 0.   0.1  0.2  0.3  0.4  0.5  0.6  0.7  0.8  0.9  1.   1.1  1.2  1.3\n",
      "  1.4  1.5  1.6  1.7  1.8  1.9  2.   2.1  2.2  2.3  2.4  2.5  2.6  2.7\n",
      "  2.8  2.9  3.   3.1  3.2  3.3  3.4  3.5  3.6  3.7  3.8  3.9  4.   4.1\n",
      "  4.2  4.3  4.4  4.5  4.6  4.7  4.8  4.9  5.   5.1  5.2  5.3  5.4  5.5\n",
      "  5.6  5.7  5.8  5.9  6.   6.1  6.2  6.3  6.4  6.5  6.6  6.7  6.8  6.9\n",
      "  7.   7.1  7.2  7.3  7.4  7.5  7.6  7.7  7.8  7.9  8.   8.1  8.2  8.3\n",
      "  8.4  8.5  8.6  8.7  8.8  8.9  9.   9.1  9.2  9.3  9.4  9.5  9.6  9.7\n",
      "  9.8  9.9 10. ]\n"
     ]
    }
   ],
   "source": [
    "# 5. Analyze\n",
    "# print results\n",
    "print(\"t is \", t)"
   ]
  },
  {
   "cell_type": "code",
   "execution_count": 87,
   "metadata": {
    "slideshow": {
     "slide_type": "subslide"
    }
   },
   "outputs": [
    {
     "name": "stdout",
     "output_type": "stream",
     "text": [
      "x is  [ 0.          0.14993751  0.29950025  0.4483144   0.59600799  0.74221188\n",
      "  0.88656062  1.02869342  1.16825503  1.3048966   1.43827662  1.56806169\n",
      "  1.69392742  1.81555922  1.93265306  2.04491628  2.15206827  2.25384122\n",
      "  2.34998073  2.44024651  2.52441295  2.60226968  2.67362208  2.73829182\n",
      "  2.79611726  2.84695386  2.89067456  2.92717007  2.95634919  2.97813897\n",
      "  2.99248496  2.99935129  2.99872081  2.99059509  2.97499443  2.95195784\n",
      "  2.92154289  2.88382561  2.83890026  2.78687915  2.72789228  2.66208711\n",
      "  2.5896281   2.51069637  2.42548921  2.33421959  2.23711564  2.13442006\n",
      "  2.02638954  1.91329411  1.79541643  1.67305115  1.54650412  1.41609162\n",
      "  1.28213964  1.14498298  1.00496445  0.86243404  0.71774799  0.57126794\n",
      "  0.42336002  0.27439393  0.12474199 -0.02522174 -0.17512243 -0.3245854\n",
      " -0.47323708 -0.62070592 -0.76662331 -0.91062454 -1.05234968 -1.1914445\n",
      " -1.32756133 -1.46035995 -1.58950842 -1.71468396 -1.83557367 -1.95187541\n",
      " -2.06329848 -2.16956437 -2.27040749 -2.36557576 -2.45483133 -2.5379511\n",
      " -2.61472732 -2.68496807 -2.74849781 -2.80515773 -2.85480622 -2.89731918\n",
      " -2.93259035 -2.96053158 -2.98107301 -2.99416332 -2.99976977 -2.99787837\n",
      " -2.98849383 -2.97163961 -2.94735784 -2.91570921 -2.87677282]\n"
     ]
    }
   ],
   "source": [
    "print(\"x is \", x)"
   ]
  },
  {
   "cell_type": "code",
   "execution_count": 80,
   "metadata": {
    "slideshow": {
     "slide_type": "subslide"
    }
   },
   "outputs": [
    {
     "name": "stdout",
     "output_type": "stream",
     "text": [
      "a is  [-0.03747657 -0.07485946 -0.11205525 -0.14897096 -0.18551432 -0.22159398\n",
      " -0.25711978 -0.29200292 -0.32615619 -0.35949425 -0.39193376 -0.42339364\n",
      " -0.45379525 -0.48306261 -0.51112257 -0.53790499 -0.56334293 -0.5873728\n",
      " -0.60993454 -0.63097177 -0.6504319  -0.66826628 -0.68443035 -0.6988837\n",
      " -0.7115902  -0.7225181  -0.73164007 -0.73893333 -0.74437964 -0.74796539\n",
      " -0.74968162 -0.74952403 -0.74749302 -0.74359367 -0.73783573 -0.73023357\n",
      " -0.72080622 -0.70957722 -0.69657465 -0.681831   -0.66538314 -0.64727216\n",
      " -0.62754334 -0.60624599 -0.58343333 -0.5591624  -0.53349386 -0.50649185\n",
      " -0.47822388 -0.4487606  -0.41817566 -0.38654549 -0.35394916 -0.32046814\n",
      " -0.28618611 -0.25118878 -0.21556359 -0.17939962 -0.14278723 -0.10581796\n",
      " -0.06858419 -0.031179    0.00630412  0.04377149  0.08112945  0.11828462\n",
      "  0.15514415  0.1916159   0.22760871  0.26303262  0.29779908  0.33182119\n",
      "  0.36501393  0.39729433  0.42858169  0.45879782  0.4878672   0.51571716\n",
      "  0.5422781   0.56748363  0.59127074  0.61357999  0.6343556   0.65354566\n",
      "  0.67110219  0.68698131  0.70114334  0.71355288  0.72417891  0.73299486\n",
      "  0.73997871  0.745113    0.7483849   0.74978622  0.74931347  0.74696782\n",
      "  0.74275514  0.73668596  0.72877545]\n"
     ]
    }
   ],
   "source": [
    "print(\"a is \", a) "
   ]
  },
  {
   "cell_type": "code",
   "execution_count": 83,
   "metadata": {
    "slideshow": {
     "slide_type": "subslide"
    }
   },
   "outputs": [
    {
     "name": "stdout",
     "output_type": "stream",
     "text": [
      "100\n",
      "100\n"
     ]
    }
   ],
   "source": [
    "# plot results\n",
    "print(len(t[:-1]))\n",
    "print(len(v))\n",
    "def plot_da_fig(t, x, v, a, N):\n",
    "    plt.figure()\n",
    "\n",
    "    plt.subplot(3, 1, 1)\n",
    "    plt.plot(t, x)\n",
    "    plt.ylabel('x')\n",
    "\n",
    "    plt.subplot(3, 1, 2)\n",
    "    plt.plot(t[:-1], v)\n",
    "    plt.ylabel('v')\n",
    "\n",
    "    plt.subplot(3, 1, 3)\n",
    "    plt.plot(t[:-2], a)\n",
    "    plt.ylabel('a')\n",
    "\n",
    "    plt.tight_layout()\n",
    "    # plt.savefig('T01.pdf')  # saves a pdf figure on disk"
   ]
  },
  {
   "cell_type": "code",
   "execution_count": 82,
   "metadata": {
    "slideshow": {
     "slide_type": "subslide"
    }
   },
   "outputs": [
    {
     "data": {
      "image/png": "[encoded data removed]",
      "text/plain": [
       "<Figure size 432x288 with 3 Axes>"
      ]
     },
     "metadata": {
      "needs_background": "light"
     },
     "output_type": "display_data"
    }
   ],
   "source": [
    "plot_da_fig(t, x, v, a, N)"
   ]
  },
  {
   "cell_type": "markdown",
   "metadata": {
    "slideshow": {
     "slide_type": "slide"
    }
   },
   "source": [
    "# Your Lab"
   ]
  },
  {
   "cell_type": "markdown",
   "metadata": {
    "slideshow": {
     "slide_type": "fragment"
    }
   },
   "source": [
    "## Modelling an orbit\n",
    "\n",
    "* Mercury's orbit,\n",
    "    * with Newtonian dynamics (ellipse) and \n",
    "    * with a simple General Relativity correction (precessing ellipse).\n",
    "* You will practice a typical workflow for a simulation:\n",
    "    * pseudocode,\n",
    "    * discretizing, initializing, evaluatizoring, analyzing."
   ]
  },
  {
   "cell_type": "markdown",
   "metadata": {
    "slideshow": {
     "slide_type": "subslide"
    }
   },
   "source": [
    "## Logistic map\n",
    "\n",
    "* One of the simplest iterative procedure leading to chaos.\n",
    "* You will \n",
    "    * manipulate arrays, \n",
    "    * practice plotting, random number generation, see some cool physics."
   ]
  },
  {
   "cell_type": "markdown",
   "metadata": {
    "slideshow": {
     "slide_type": "fragment"
    }
   },
   "source": [
    "## Timing matrix multiplication\n",
    "\n",
    "* Title says it all.\n",
    "* You will manipulate some basic techniques to measure performance."
   ]
  },
  {
   "cell_type": "code",
   "execution_count": null,
   "metadata": {},
   "outputs": [],
   "source": []
  }
 ],
 "metadata": {
  "celltoolbar": "Diaporama",
  "kernelspec": {
   "display_name": "Python 3",
   "language": "python",
   "name": "python3"
  },
  "language_info": {
   "codemirror_mode": {
    "name": "ipython",
    "version": 3
   },
   "file_extension": ".py",
   "mimetype": "text/x-python",
   "name": "python",
   "nbconvert_exporter": "python",
   "pygments_lexer": "ipython3",
   "version": "3.8.3"
  },
  "latex_metadata": {
   "affiliation": "PHY407, University of Toronto",
   "author": "Nico Grisouard",
   "title": "Lecture 1: python basics"
  }
 },
 "nbformat": 4,
 "nbformat_minor": 2
}
