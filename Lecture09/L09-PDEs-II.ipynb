{
 "cells": [
  {
   "cell_type": "markdown",
   "metadata": {
    "slideshow": {
     "slide_type": "skip"
    }
   },
   "source": [
    "*Supporting textbook chapters for week 8: §§ 9.3.3, 9.3.4*"
   ]
  },
  {
   "cell_type": "markdown",
   "metadata": {
    "slideshow": {
     "slide_type": "slide"
    }
   },
   "source": [
    "Lecture 9, topics:\n",
    "* Stability,\n",
    "* Implicit and Crank-Nicholson methods,\n",
    "* Spectral methods."
   ]
  },
  {
   "cell_type": "markdown",
   "metadata": {
    "cell_style": "split",
    "slideshow": {
     "slide_type": "slide"
    }
   },
   "source": [
    "# Reminders\n",
    "\n",
    "## Classifying PDEs\n",
    "\n",
    "$$ \\alpha\\frac{\\partial^2 \\phi}{\\partial x^2} + \\beta\\frac{\\partial^2 \\phi}{\\partial x\\partial y} + \\gamma\\frac{\\partial^2 \\phi}{\\partial y^2} + \\delta\\frac{\\partial\\phi}{\\partial x} + \\varepsilon \\frac{\\partial\\phi}{\\partial y} = f.$$\n",
    "\n",
    "Classification based on $$ \\Delta = \\beta^2 - 4\\alpha \\gamma.$$\n",
    "\n",
    "1. $\\Delta = 0$: parabolic PDE,\n",
    "3. $\\Delta < 0$: elliptic PDE,\n",
    "2. $\\Delta > 0$: hyperbolic PDE."
   ]
  },
  {
   "cell_type": "markdown",
   "metadata": {
    "cell_style": "split",
    "slideshow": {
     "slide_type": "slide"
    }
   },
   "source": [
    "![By Pbroks13 [CC BY 3.0  (https://creativecommons.org/licenses/by/3.0)], from Wikimedia Commons](500px-Conic_sections_with_plane.png)"
   ]
  },
  {
   "cell_type": "markdown",
   "metadata": {
    "slideshow": {
     "slide_type": "subslide"
    }
   },
   "source": [
    "1. Canonical parabolic PDE: the diffusion equation, $\\ \\displaystyle \\kappa \\nabla^2 \\phi  - \\frac{\\partial T}{\\partial t} = 0$,\n",
    "3. Canonical elliptic PDE: the Poisson equation, $\\ \\nabla^2 \\phi = \\rho$,\n",
    "2. Canonical hyperbolic PDE: the wave equation, $\\ \\displaystyle c^2 \\nabla^2 \\phi  - \\frac{\\partial^2 T}{\\partial t^2} = 0.$"
   ]
  },
  {
   "cell_type": "markdown",
   "metadata": {
    "slideshow": {
     "slide_type": "subslide"
    }
   },
   "source": [
    "## Calculating the second derivative\n",
    "\n",
    "* Recall central difference calculation of 2nd derivative (§5.10.5):\n",
    "$$f''(x) = \\frac{f(x+h) - 2f(x)+ f(x-h)}{h^2} - \\frac{1}{12}h^2 f^{(4)}(x) + \\dots{}$$"
   ]
  },
  {
   "cell_type": "markdown",
   "metadata": {
    "slideshow": {
     "slide_type": "subslide"
    }
   },
   "source": [
    "## General approach\n",
    "\n",
    "* Discretize system spatially and temporally. Can use\n",
    "    * Finite difference\n",
    "    * Spectral coefficients\n",
    "    * Etc.\n",
    "* $\\Rightarrow$ set of coupled ODEs that you need to solve in an efficient way.\n",
    "* Spatial derivatives bring information in from neighbouring points $\\Rightarrow$ coupling,\n",
    "* $\\Rightarrow$ errors depend on space and time and can get wave-like characteristics."
   ]
  },
  {
   "cell_type": "markdown",
   "metadata": {
    "slideshow": {
     "slide_type": "subslide"
    }
   },
   "source": [
    "* Elliptical equations (e.g., Poisson eqn.):\n",
    "    * Jacobi relaxation (always stable),\n",
    "    * Speed-up with overrelaxation (not always stable),\n",
    "    * Gauss-Seidel (overrelaxed or not): replace on the fly; more stable than Jacobi when overrelaxing.\n",
    "* Parabolic PDEs (e.g., heat eqn):\n",
    "    * FTCS (Forward Time, Centred Space) scheme: centred finite-diff. in space, forward Euler in time\n",
    "    * Von Neumann analysis says stable if sufficient resolution space.\n",
    "* Hyperbolic PDEs (e.g., wave eqn.):\n",
    "    * Von Neumann analysis says FTCS never stable.\n",
    "    * See next week for better schemes.\n",
    "* Von Neumann stability analysis: plug a Fourier mode, see if it grows or not.\n",
    "\n",
    "**Today: stable and accurate schemes for Hyperbolic PDEs?**"
   ]
  },
  {
   "cell_type": "markdown",
   "metadata": {
    "slideshow": {
     "slide_type": "slide"
    }
   },
   "source": [
    "# The implicit method\n",
    "\n",
    "We have other choices on how to discretize in time the set of ODEs\n",
    "$$\\frac{d\\phi_m}{dt} = \\psi_m, \\quad \\text{and}\\quad \\frac{d\\psi_m}{dt} = \\frac{c^2}{a^2}\\left(\\phi_{m+1} - 2\\phi_m + \\phi_{m-1}\\right)$$\n",
    "\n",
    "What if we evaluated the RHS at time $t+h$ instead of $t$?"
   ]
  },
  {
   "cell_type": "markdown",
   "metadata": {
    "slideshow": {
     "slide_type": "subslide"
    }
   },
   "source": [
    "Explicit method we saw last time was\n",
    "\n",
    "$$\n",
    "    \\begin{bmatrix}\n",
    "        \\phi_m^{n+1} \\\\\n",
    "        \\psi_m^{n+1}\n",
    "    \\end{bmatrix}\n",
    "    = \n",
    "    \\begin{bmatrix}\n",
    "        1 & +h \\\\\n",
    "        -\\frac{2hc^2}{a^2} & 1\n",
    "    \\end{bmatrix}\n",
    "    \\begin{bmatrix}\n",
    "        \\phi_m^{n} \\\\\n",
    "        \\psi_m^{n}\n",
    "    \\end{bmatrix}\n",
    "    +\n",
    "    \\begin{bmatrix}\n",
    "        0 \\\\\n",
    "        \\frac{c^2 h}{a^2}\\left(\\phi_{m+1}^n + \\phi_{m-1}^n\\right)\n",
    "    \\end{bmatrix}\n",
    "$$\n",
    "\n",
    "To compute with the implicit method, \n",
    "* first do $h\\to -h$:\n",
    "    \\begin{align*}\n",
    "        \\phi_m^{n-1} & = \\phi_m^{n} - h\\psi_m^{n},\\\\\n",
    "        \\psi_m^{n-1} & = \\psi_m^{n} - h\\frac{c^2}{a^2}\\left(\\phi_{m-1}^{n} + \\phi_{m+1}^{n} - 2\\phi_m^{n}\\right),\n",
    "    \\end{align*}\n",
    "\n",
    "* Then, $n \\to n+1$ (one shift forward in time):\n",
    "    \\begin{align*}\n",
    "        \\phi_m^{n} & = \\phi_m^{n+1} - h\\psi_m^{n+1},\\\\\n",
    "        \\psi_m^{n} & = \\psi_m^{n+1} - h\\frac{c^2}{a^2}\\left(\\phi_{m-1}^{n+1} + \\phi_{m+1}^{n+1} - 2\\phi_m^{n+1}\\right),\n",
    "    \\end{align*}\n",
    "    or \n",
    "    $$\n",
    "    \\begin{bmatrix}\n",
    "        \\phi_m^n \\\\\n",
    "        \\psi_m^n\n",
    "    \\end{bmatrix}\n",
    "    = \n",
    "    \\begin{bmatrix}\n",
    "        1 & -h \\\\\n",
    "        +\\frac{2hc^2}{a^2} & 1\n",
    "    \\end{bmatrix}\n",
    "    \\begin{bmatrix}\n",
    "        \\phi_m^{n+1} \\\\\n",
    "        \\psi_m^{n+1}\n",
    "    \\end{bmatrix}\n",
    "    -\n",
    "    \\begin{bmatrix}\n",
    "        0 \\\\\n",
    "        \\frac{c^2 h}{a^2}\\left(\\phi_{m+1}^{n+1} + \\phi_{m-1}^{n+1}\\right)\n",
    "    \\end{bmatrix}\n",
    "    $$"
   ]
  },
  {
   "cell_type": "markdown",
   "metadata": {
    "slideshow": {
     "slide_type": "subslide"
    }
   },
   "source": [
    "Why would we compute $n$ if we know $n+1$?\n",
    "\n",
    "Because all RHS's combined (i.e., at all $n$'s) form is a matrix expression that we can invert to get the LHS."
   ]
  },
  {
   "cell_type": "markdown",
   "metadata": {
    "slideshow": {
     "slide_type": "subslide"
    }
   },
   "source": [
    "## Stability\n",
    "\n",
    "$$\\text{Recall}\\quad \n",
    "\\begin{bmatrix}\n",
    "    \\phi_m^n \\\\\n",
    "    \\psi_m^n\n",
    "\\end{bmatrix}\n",
    "= \n",
    "\\begin{bmatrix}\n",
    "    1 & -h \\\\\n",
    "    +\\frac{2hc^2}{a^2} & 1\n",
    "\\end{bmatrix}\n",
    "\\begin{bmatrix}\n",
    "    \\phi_m^{n+1} \\\\\n",
    "    \\psi_m^{n+1}\n",
    "\\end{bmatrix}\n",
    "-\n",
    "\\begin{bmatrix}\n",
    "    0 \\\\\n",
    "    \\frac{c^2 h}{a^2}\\left(\\phi_{m+1}^{n+1} + \\phi_{m-1}^{n+1}\\right)\n",
    "\\end{bmatrix}\n",
    "$$"
   ]
  },
  {
   "cell_type": "markdown",
   "metadata": {
    "slideshow": {
     "slide_type": "fragment"
    }
   },
   "source": [
    "If we do the Von Neumann substitution, $\\widehat \\phi_k^n\\exp(ikma)$ and $\\widehat \\psi_k^n\\exp(ikma)$, we get\n",
    "\n",
    "$$\n",
    "\\mathbf B\n",
    "\\begin{bmatrix}\n",
    "    \\widehat\\phi_k^{m+1} \\\\\n",
    "    \\widehat\\psi_k^{m+1}\n",
    "\\end{bmatrix}\n",
    "=\n",
    "\\begin{bmatrix}\n",
    "    \\widehat\\phi_k^{m} \\\\\n",
    "    \\widehat\\psi_k^{m}\n",
    "\\end{bmatrix}\\exp(ikma),\n",
    "$$\n",
    "\n",
    "$$\\text{with}\\quad \\mathbf B = \n",
    "\\begin{bmatrix}\n",
    "    1 & -h \\\\\n",
    "    hr^2 & 1\n",
    "\\end{bmatrix}\\quad \\text{and}\\quad\n",
    "r = \\frac{2c}{a}\\sin\\frac{ka}{2},\n",
    "$$\n",
    "\n",
    "$$\n",
    "\\Rightarrow\n",
    "\\begin{bmatrix}\n",
    "    \\widehat\\phi_k^{m+1} \\\\\n",
    "    \\widehat\\psi_k^{m+1}\n",
    "\\end{bmatrix}\n",
    "=\n",
    "\\mathbf B^{-1}\n",
    "\\begin{bmatrix}\n",
    "    \\widehat\\phi_k^{m} \\\\\n",
    "    \\widehat\\psi_k^{m}\n",
    "\\end{bmatrix}\\exp(ikma).\n",
    "$$"
   ]
  },
  {
   "cell_type": "code",
   "execution_count": 2,
   "metadata": {
    "cell_style": "split",
    "slideshow": {
     "slide_type": "subslide"
    }
   },
   "outputs": [
    {
     "data": {
      "image/png": "[encoded data removed]",
      "text/latex": [
       "$\\displaystyle \\left[\\begin{matrix}1 & - h\\\\h r^{2} & 1\\end{matrix}\\right]$"
      ],
      "text/plain": [
       "⎡ 1    -h⎤\n",
       "⎢        ⎥\n",
       "⎢   2    ⎥\n",
       "⎣h⋅r   1 ⎦"
      ]
     },
     "execution_count": 2,
     "metadata": {},
     "output_type": "execute_result"
    }
   ],
   "source": [
    "from sympy import *\n",
    "init_printing()\n",
    "h, r = symbols('h, r', positive=True)\n",
    "B = Matrix([[1, -h], [h*r**2, 1]])\n",
    "B"
   ]
  },
  {
   "cell_type": "code",
   "execution_count": 3,
   "metadata": {
    "cell_style": "split",
    "slideshow": {
     "slide_type": "fragment"
    }
   },
   "outputs": [
    {
     "data": {
      "image/png": "[encoded data removed]",
      "text/latex": [
       "$\\displaystyle \\left[\\begin{matrix}\\frac{1}{h^{2} r^{2} + 1} & \\frac{h}{h^{2} r^{2} + 1}\\\\- \\frac{h r^{2}}{h^{2} r^{2} + 1} & \\frac{1}{h^{2} r^{2} + 1}\\end{matrix}\\right]$"
      ],
      "text/plain": [
       "⎡    1          h    ⎤\n",
       "⎢─────────  ─────────⎥\n",
       "⎢ 2  2       2  2    ⎥\n",
       "⎢h ⋅r  + 1  h ⋅r  + 1⎥\n",
       "⎢                    ⎥\n",
       "⎢      2             ⎥\n",
       "⎢  -h⋅r         1    ⎥\n",
       "⎢─────────  ─────────⎥\n",
       "⎢ 2  2       2  2    ⎥\n",
       "⎣h ⋅r  + 1  h ⋅r  + 1⎦"
      ]
     },
     "execution_count": 3,
     "metadata": {},
     "output_type": "execute_result"
    }
   ],
   "source": [
    "# inverse of B\n",
    "B**-1"
   ]
  },
  {
   "cell_type": "code",
   "execution_count": 4,
   "metadata": {
    "cell_style": "split",
    "slideshow": {
     "slide_type": "fragment"
    }
   },
   "outputs": [],
   "source": [
    "# eigenvalues as a list\n",
    "L = list((B**-1).eigenvals().keys())"
   ]
  },
  {
   "cell_type": "code",
   "execution_count": 5,
   "metadata": {
    "cell_style": "split",
    "scrolled": true,
    "slideshow": {
     "slide_type": "fragment"
    }
   },
   "outputs": [
    {
     "data": {
      "image/png": "[encoded data removed]",
      "text/latex": [
       "$\\displaystyle - \\frac{i h r - 1}{h^{2} r^{2} + 1}$"
      ],
      "text/plain": [
       "-(ⅈ⋅h⋅r - 1) \n",
       "─────────────\n",
       "   2  2      \n",
       "  h ⋅r  + 1  "
      ]
     },
     "execution_count": 5,
     "metadata": {},
     "output_type": "execute_result"
    }
   ],
   "source": [
    "# First eigenvalue\n",
    "L[0].factor()"
   ]
  },
  {
   "cell_type": "code",
   "execution_count": 6,
   "metadata": {
    "cell_style": "split",
    "slideshow": {
     "slide_type": "fragment"
    }
   },
   "outputs": [
    {
     "data": {
      "image/png": "[encoded data removed]",
      "text/latex": [
       "$\\displaystyle \\frac{1}{\\sqrt{h^{2} r^{2} + 1}}$"
      ],
      "text/plain": [
       "      1       \n",
       "──────────────\n",
       "   ___________\n",
       "  ╱  2  2     \n",
       "╲╱  h ⋅r  + 1 "
      ]
     },
     "execution_count": 6,
     "metadata": {},
     "output_type": "execute_result"
    }
   ],
   "source": [
    "# Magnitude of first eigenvalue\n",
    "abs(L[0].factor())"
   ]
  },
  {
   "cell_type": "code",
   "execution_count": 7,
   "metadata": {
    "cell_style": "split",
    "slideshow": {
     "slide_type": "fragment"
    }
   },
   "outputs": [
    {
     "data": {
      "image/png": "[encoded data removed]",
      "text/latex": [
       "$\\displaystyle \\frac{1}{\\sqrt{h^{2} r^{2} + 1}}$"
      ],
      "text/plain": [
       "      1       \n",
       "──────────────\n",
       "   ___________\n",
       "  ╱  2  2     \n",
       "╲╱  h ⋅r  + 1 "
      ]
     },
     "execution_count": 7,
     "metadata": {},
     "output_type": "execute_result"
    }
   ],
   "source": [
    "# Magnitude of 2nd eigenvalue\n",
    "abs(L[1].factor())"
   ]
  },
  {
   "cell_type": "markdown",
   "metadata": {
    "slideshow": {
     "slide_type": "subslide"
    }
   },
   "source": [
    "$$\n",
    "\\begin{bmatrix}\n",
    "    \\widehat\\phi_k^{m+1} \\\\\n",
    "    \\widehat\\psi_k^{m+1}\n",
    "\\end{bmatrix}\n",
    "=\n",
    "\\mathbf B^{-1}\n",
    "\\begin{bmatrix}\n",
    "    \\widehat\\phi_k^{m} \\\\\n",
    "    \\widehat\\psi_k^{m}\n",
    "\\end{bmatrix}\\exp(ikma).\n",
    "$$\n",
    "The eigenvalues of $\\mathbf B^{-1}$ are $$\\lambda_\\pm = \\frac{1\\pm ihr}{1+h^2r^2}, \\qquad |\\lambda_\\pm| = \\frac{1}{\\sqrt{1 + h^2r^2}} \\leq 1.$$\n",
    "\n",
    "* The eigenvalues are the growth factors and these are less than one.\n",
    "* So the implicit method is unconditionally stable.\n",
    "* But solutions decay exponentially! This is a big problem for the wave equation!"
   ]
  },
  {
   "cell_type": "markdown",
   "metadata": {
    "slideshow": {
     "slide_type": "slide"
    }
   },
   "source": [
    "# Crank-Nicholson\n",
    "\n",
    "Crank-Nicholson: average of explicit (fwd Euler) and implicit methods\n",
    "\n",
    "Euler:\n",
    "\\begin{align*}\n",
    "    \\phi_m^{n+1} & = \\phi_m^{n} + h\\psi_m^{n},\\\\\n",
    "    \\psi_m^{n+1} & = \\psi_m^{n} + h\\frac{c^2}{a^2}\\left(\\phi_{m-1}^{n} + \\phi_{m+1}^{n} - 2\\phi_m^{n}\\right).\n",
    "\\end{align*}\n",
    "\n",
    "Implicit:\n",
    "\\begin{align*}\n",
    "    \\phi_m^{n+1} - h\\psi_m^{n+1} & = \\phi_m^n,\\\\\n",
    "    \\psi_m^{n+1} - h\\frac{c^2}{a^2}\\left(\\phi_{m-1}^{n+1} + \\phi_{m+1}^{n+1} - 2\\phi_m^{n+1}\\right) & = \\psi_m^{n}.\n",
    "\\end{align*}\n",
    "\n",
    "Crank-Nicholson (C-N):\n",
    "\\begin{align*}\n",
    "    \\phi_m^{n+1} - \\frac{h}2\\psi_m^{n+1} & = \\phi_m^{n} + \\frac{h}2\\psi_m^{n},\\\\\n",
    "    \\psi_m^{n+1} - \\frac{h}2\\frac{c^2}{a^2}\\left(\\phi_{m-1}^{n+1} + \\phi_{m+1}^{n+1} - 2\\phi_m^{n+1}\\right) & = \\psi_m^{n} + \\frac{h}2\\frac{c^2}{a^2}\\left(\\phi_{m-1}^{n} + \\phi_{m+1}^{n} - 2\\phi_m^{n}\\right).\n",
    "\\end{align*}"
   ]
  },
  {
   "cell_type": "markdown",
   "metadata": {
    "slideshow": {
     "slide_type": "subslide"
    }
   },
   "source": [
    "If we do the Von Neumann substitution, $\\widehat \\phi_k^n\\exp(ikma)$ and $\\hat \\psi_k^n\\exp(ikma)$, we get\n",
    "\n",
    "$$\\mathbf{B'}\n",
    "\\begin{bmatrix}\n",
    "    \\widehat\\phi_m^{n+1} \\\\\n",
    "    \\widehat\\psi_m^{n+1}\n",
    "\\end{bmatrix}\n",
    "=\n",
    "\\mathbf{A'}\n",
    "\\begin{bmatrix}\n",
    "    \\widehat\\phi_m^{n} \\\\\n",
    "    \\widehat\\psi_m^{n}\n",
    "\\end{bmatrix},\n",
    "$$\n",
    "or \n",
    "$$\n",
    "\\begin{bmatrix}\n",
    "    \\widehat\\phi_m^{n+1} \\\\\n",
    "    \\widehat\\psi_m^{n+1}\n",
    "\\end{bmatrix}\n",
    "=\n",
    "\\mathbf{B'^{-1}A'}\n",
    "\\begin{bmatrix}\n",
    "    \\widehat\\phi_m^{n} \\\\\n",
    "    \\widehat\\psi_m^{n},\n",
    "\\end{bmatrix}\n",
    "$$\n",
    "with\n",
    "$$\n",
    "\\mathbf{B'^{-1}A'}\n",
    "= \\frac{a}{1 + h^2 r'^2}\n",
    "\\begin{bmatrix}\n",
    "    1 - h^2 r'^2 & 2 h \\\\\n",
    "    -2hr'^2 & 1-h^2r'^2\n",
    "\\end{bmatrix},\n",
    "\\quad r' = \\frac{c}{a}\\sin\\frac{ka}{2}\n",
    "$$"
   ]
  },
  {
   "cell_type": "markdown",
   "metadata": {
    "slideshow": {
     "slide_type": "-"
    }
   },
   "source": [
    "Growth factors of Crank-Nicholson are eigenvalues of $\\mathbf{B^{-1}A}$:\n",
    "$$\\lambda_\\pm = \\frac{1 \\pm 2ihr' - h^2 r'^2}{1 + h^2 r'^2},\\quad \\boxed{|\\lambda_\\pm| = 1}.$$"
   ]
  },
  {
   "cell_type": "markdown",
   "metadata": {
    "slideshow": {
     "slide_type": "subslide"
    }
   },
   "source": [
    "* For Euler-Forward, the growth factors are greater than one and the solution diverges.\n",
    "* For Implicit, the growth factors are less than one and the solution decays to zero.\n",
    "* For CN, the growth factors are one so the solution neither grows nor decays.\n",
    "* It is also 2nd-order accurate in time, while both explicit and implicit methods are 1st-order accurate."
   ]
  },
  {
   "cell_type": "markdown",
   "metadata": {
    "slideshow": {
     "slide_type": "slide"
    }
   },
   "source": [
    "# Spectral methods"
   ]
  },
  {
   "cell_type": "markdown",
   "metadata": {
    "slideshow": {
     "slide_type": "subslide"
    }
   },
   "source": [
    "## General idea\n",
    "\n",
    "* Find yourself a set of orthogonal functions forming a basis of your function space\n",
    "    * $\\sin$ if quantity is zero at boundaries or function is odd w.r.t. midline of domain,\n",
    "    * $\\cos$ if quantity has zero derivatives at boundaries or function is even w.r.t. midline of domain,\n",
    "    * $\\exp$ if quantity is periodic,\n",
    "    * Chebyshev polynomials for more flexible combinations of boundary conditions or non-periodic, closed domains,\n",
    "    * Hermite polynomials on the $(-\\infty, \\infty)$ real line,\n",
    "    * Laguerre polynomials on the $(0, \\infty)$ real half-line,\n",
    "    * ...\n",
    "* Project your initial conditions and forcing on that basis,\n",
    "* Iterate in time for linear PDEs,\n",
    "* Iterate in time, and do FFTs and iFFTs to compute the non-linear terms if PDEs are non-linear,"
   ]
  },
  {
   "cell_type": "markdown",
   "metadata": {
    "slideshow": {
     "slide_type": "subslide"
    }
   },
   "source": [
    "* We focus on $\\sin$/$\\cos$/$\\exp$ bases, sometimes called \"Fourier spectral methods\" (*perhaps only by me*),\n",
    "* Usually, all of these methods require computing FFTs (even for non-Fourier spectral methods),\n",
    "* $\\oplus$ FFTs: large cost of computing them, but a large return on investment usually:\n",
    "    * linear PDEs: all modes oscillate independently, without coupling $\\Rightarrow$ computing the FFTs of the initial conditions give you the solutions at all times,\n",
    "    * non-linear PDEs: elliptic PDEs can be solved without the need of an iterative solver like relaxation method\n",
    "       $$\\frac{\\partial^2 \\phi}{\\partial x^2} + \\frac{\\partial^2 \\phi}{\\partial y^2} = \\rho;$$\n",
    "       $$\\binom{\\phi}{\\rho} = \\sum_i\\sum_j \\binom{\\widehat\\phi_{ij}}{\\widehat\\rho_{ij}}\\exp i(k_ix + l_jy), $$\n",
    "       $$\\text{Use orthogonality to project } \\Rightarrow \\widehat\\phi_{ij} = -\\frac{\\widehat\\rho_{ij}}{k_i^2 + l_j^2}$$\n",
    "      and you are just one iFFT away form getting the solution $\\Rightarrow$ no need to use an iterative solver!\n",
    "      This is particularly useful with large sets of coupled PDEs, for which just one elliptic PDE can be the main bottleneck of a non-spectral implementation.\n",
    "* $\\ominus$ Spectral methods are really difficult to implement in complicated geometries."
   ]
  },
  {
   "cell_type": "markdown",
   "metadata": {
    "slideshow": {
     "slide_type": "subslide"
    }
   },
   "source": [
    "# Practical implementation tricks\n",
    "\n",
    "Periodic BCs are simpler, let's focus on them.\n",
    "$$f = \\sum_{n=-\\infty}^{\\infty} \\hat f_n \\exp(ik_n x) \\Rightarrow \\frac{\\partial f}{\\partial x} = \\sum_{n=-\\infty}^{\\infty} ik_n \\hat f_n \\exp(ik_n x),$$\n",
    "or, in shorthand,\n",
    "$$\\frac{\\partial f}{\\partial x} \\to ik_n\\hat f_n, \\quad \\frac{\\partial^2 f}{\\partial x^2} \\to -k_n^2\\hat f_n$$\n",
    "\n",
    "Next are a couple fo examples of how to implement it."
   ]
  },
  {
   "cell_type": "code",
   "execution_count": 9,
   "metadata": {
    "slideshow": {
     "slide_type": "subslide"
    }
   },
   "outputs": [
    {
     "data": {
      "image/png": "[encoded data removed]",
      "text/plain": [
       "<Figure size 432x288 with 2 Axes>"
      ]
     },
     "metadata": {
      "needs_background": "light"
     },
     "output_type": "display_data"
    }
   ],
   "source": [
    "# Based on derivative_fft.py\n",
    "# calculate derivative of a function using fourier transform method\n",
    "# import required routines\n",
    "from numpy import arange, exp, pi\n",
    "from pylab import plot, legend, show, subplot, xlabel, ylabel, tight_layout\n",
    "from numpy.fft import rfft, irfft\n",
    "#define function and its derivative\n",
    "def f(x):\n",
    "    return exp(-(x-L/2)**2/Delta**2)\n",
    "def dfdx(x):\n",
    "    return exp(-(x-L/2)**2/Delta**2)*-2*(x-L/2)/Delta**2\n",
    "\n",
    "# define problem parameters\n",
    "L=2.0\n",
    "Delta=0.1\n",
    "nx=200\n",
    "\n",
    "# define x, f(x), f'(x)\n",
    "x=arange(0,L,L/nx)\n",
    "\n",
    "f = f(x)\n",
    "\n",
    "f_derivative = dfdx(x)\n",
    "\n",
    "# now do the same thing spectrally:\n",
    "fhat = rfft(f)  # fourier transform\n",
    "karray = arange(nx/2+1)*2*pi/L  # define k\n",
    "fhat_derivative = complex(0,1)*karray*fhat  # define ik*fhat\n",
    "f_derivative_fft = irfft(fhat_derivative)  # and transform back\n",
    "\n",
    "subplot(2,1,1)\n",
    "plot(x, f, label='$f$')\n",
    "plot(x, f_derivative, label='$df/dx$, analytic')\n",
    "plot(x, f_derivative_fft, '--', label='$dfdfx$ with FFT')\n",
    "legend(loc=3)\n",
    "xlabel('x')\n",
    "subplot(2,1,2)\n",
    "plot(x,abs(f_derivative-f_derivative_fft))\n",
    "xlabel('x')\n",
    "ylabel('abs(difference)')\n",
    "\n",
    "tight_layout()\n",
    "show()"
   ]
  },
  {
   "cell_type": "code",
   "execution_count": 10,
   "metadata": {
    "slideshow": {
     "slide_type": "subslide"
    }
   },
   "outputs": [
    {
     "name": "stdout",
     "output_type": "stream",
     "text": [
      "Original series: f = sin(x) - 2sin(4x) + 3sin(5x) - 4sin(6x)\n",
      "Coefficient of sin(0x): 0.00e+00\n",
      "Coefficient of sin(1x): 1.00e+00\n",
      "Coefficient of sin(2x): 3.67e-17\n",
      "Coefficient of sin(3x): -5.96e-16\n",
      "Coefficient of sin(4x): -2.00e+00\n",
      "Coefficient of sin(5x): 3.00e+00\n",
      "Coefficient of sin(6x): -4.00e+00\n",
      "See Figure for calculating second derivative\n"
     ]
    },
    {
     "data": {
      "image/png": "[encoded data removed]",
      "text/plain": [
       "<Figure size 432x288 with 2 Axes>"
      ]
     },
     "metadata": {
      "needs_background": "light"
     },
     "output_type": "display_data"
    }
   ],
   "source": [
    "from pylab import plot, show, legend, subplot, xlabel, ylabel, tight_layout\n",
    "from numpy import zeros, empty, linspace, exp, arange, minimum, pi, sin, cos, array\n",
    "from dcst import dst, idst, dct, idct\n",
    "\n",
    "N = 256\n",
    "x = arange(N)*pi/N  # x = pi*n/N\n",
    "f = sin(x) - 2*sin(4*x) + 3*sin(5*x) - 4*sin(6*x)  # function is a sine series\n",
    "fCoeffs = dst(f)  # do fourier sine series\n",
    "print('Original series: f = sin(x) - 2sin(4x) + 3sin(5x) - 4sin(6x)')\n",
    "for j in range(7):\n",
    "    print('Coefficient of sin({0}x): {1:.2e}'.format(j, fCoeffs[j]/N))\n",
    "\n",
    "print('See Figure for calculating second derivative')\n",
    "\n",
    "# Below: 2nd derivative also a sine series\n",
    "d2f_dx2_a = -sin(x) + 32*sin(4*x) - 75*sin(5*x) + 144*sin(6*x)\n",
    "DerivativeCoeffs = -arange(N)**2*fCoeffs  # 2nd derivative using Fourier transform\n",
    "d2f_dx2_b = idst(DerivativeCoeffs)\n",
    "subplot(2, 1, 1) \n",
    "plot(x, d2f_dx2_a, label='analytic')\n",
    "plot(x, d2f_dx2_b, '--', label='with DST')\n",
    "xlabel('x')\n",
    "legend()\n",
    "subplot(2, 1, 2)\n",
    "plot(x,abs(d2f_dx2_a - d2f_dx2_b))\n",
    "xlabel('x')\n",
    "ylabel('abs(diff)')\n",
    "tight_layout()\n",
    "show()\n"
   ]
  },
  {
   "cell_type": "markdown",
   "metadata": {},
   "source": [
    "# Summary\n",
    "\n",
    "* Last week: FTCS was \n",
    "    * and explicit scheme,\n",
    "    * unstable for hyperbolic PDEs (wave eqn.)\n",
    "* FTCS with implicit time stepping:\n",
    "    * infers what RHS of next step is based on present step, and inverts.\n",
    "    * stable for hyperbnolic PDEs, but decays (bad accuracy)\n",
    "* Crank-Nicholson:\n",
    "    * average of both, also requires matrix inversion,\n",
    "    * neither grows nor decays\n",
    "* Spectral methods:\n",
    "    * leverage $\\partial_x f \\to ik\\times\\hat f$ and powerful FFT methods,\n",
    "    * can be much faster than grid-based schemes (though it depends),\n",
    "    * super-duper accurate\n",
    "    * Not too flexible when it comes to domain shape."
   ]
  }
 ],
 "metadata": {
  "celltoolbar": "Slideshow",
  "kernelspec": {
   "display_name": "Python 3",
   "language": "python",
   "name": "python3"
  },
  "language_info": {
   "codemirror_mode": {
    "name": "ipython",
    "version": 3
   },
   "file_extension": ".py",
   "mimetype": "text/x-python",
   "name": "python",
   "nbconvert_exporter": "python",
   "pygments_lexer": "ipython3",
   "version": "3.8.3"
  }
 },
 "nbformat": 4,
 "nbformat_minor": 2
}
