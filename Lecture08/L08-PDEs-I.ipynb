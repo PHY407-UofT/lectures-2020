{
 "cells": [
  {
   "cell_type": "markdown",
   "metadata": {
    "slideshow": {
     "slide_type": "skip"
    }
   },
   "source": [
    "*Supporting textbook chapters for week 8: Chapters 9.1, 9.2, 9.3.1*"
   ]
  },
  {
   "cell_type": "markdown",
   "metadata": {
    "slideshow": {
     "slide_type": "slide"
    }
   },
   "source": [
    "Lecture 8, topics:\n",
    "* Classifying PDEs\n",
    "* Elliptic equation solvers: Jacobi, Gauss-Seidel, overrelaxation\n",
    "* Parabolic equation solver: FTCS (Forward Time, Centered Space)\n",
    "* Stability."
   ]
  },
  {
   "cell_type": "markdown",
   "metadata": {
    "cell_style": "split",
    "slideshow": {
     "slide_type": "slide"
    }
   },
   "source": [
    "# Intro\n",
    "\n",
    "## Classifying PDEs\n",
    "\n",
    "Recall conical equations in geometry:\n",
    "$$ \\alpha x^2 + \\beta xy + \\gamma y^2 + \\delta x + \\varepsilon y = f, $$\n",
    "classified using \n",
    "$$ \\Delta = \\beta^2 - 4\\alpha\\gamma.$$\n",
    "\n",
    "1. $\\Delta = 0$: equation for a parabola,\n",
    "3. $\\Delta < 0$: equation for an ellipse,\n",
    "2. $\\Delta > 0$: equation for a hyperbola."
   ]
  },
  {
   "cell_type": "markdown",
   "metadata": {
    "cell_style": "split",
    "slideshow": {
     "slide_type": "-"
    }
   },
   "source": [
    "![By Pbroks13 [CC BY 3.0  (https://creativecommons.org/licenses/by/3.0)], from Wikimedia Commons](500px-Conic_sections_with_plane.png)"
   ]
  },
  {
   "cell_type": "markdown",
   "metadata": {
    "slideshow": {
     "slide_type": "subslide"
    }
   },
   "source": [
    "Recall conical equations in geometry:\n",
    "$$ \\alpha x^2 + \\beta xy + \\gamma y^2 + \\delta x + \\varepsilon y = f, $$\n",
    "classified using \n",
    "$$ \\Delta = \\beta^2 - 4\\alpha\\gamma.$$\n",
    "\n",
    "What does it have to do with PDEs?\n",
    "$$ \\alpha\\frac{\\partial^2 \\phi}{\\partial x^2} + \\beta\\frac{\\partial^2 \\phi}{\\partial x\\partial y} + \\gamma\\frac{\\partial^2 \\phi}{\\partial y^2} + \\delta \\frac{\\partial\\phi}{\\partial x} + \\varepsilon\\frac{\\partial\\phi}{\\partial y} = f.$$\n",
    "\n",
    "Imagine Fourier modes to convince yourself of the connection:\n",
    "$$\\binom{\\phi}{f} = \\binom{\\Phi}{F}\\text e^{i(kx + \\ell y)}\\Rightarrow -\\alpha k^2 - \\beta k\\ell - \\gamma \\ell^2 + i\\delta k +  i\\varepsilon\\ell = \\frac{F}\\Phi.$$\n",
    "$$\\Rightarrow (x, y) \\leftrightarrow (ik, i\\ell)$$\n"
   ]
  },
  {
   "cell_type": "markdown",
   "metadata": {
    "cell_style": "split",
    "slideshow": {
     "slide_type": "subslide"
    }
   },
   "source": [
    "What does it have to do with PDEs?\n",
    "$$ \\alpha\\frac{\\partial^2 \\phi}{\\partial x^2} + \\beta\\frac{\\partial^2 \\phi}{\\partial x\\partial y} + \\gamma\\frac{\\partial^2 \\phi}{\\partial y^2} + \\delta\\frac{\\partial\\phi}{\\partial x} +  \\varepsilon\\frac{\\partial\\phi}{\\partial y} = f.$$"
   ]
  },
  {
   "cell_type": "markdown",
   "metadata": {
    "cell_style": "split",
    "slideshow": {
     "slide_type": "-"
    }
   },
   "source": [
    "With $\\Delta = \\beta^2 - 4\\alpha\\gamma$,\n",
    "1. $\\Delta = 0$: parabolic PDE,\n",
    "3. $\\Delta < 0$: elliptic PDE,\n",
    "2. $\\Delta > 0$: hyperbolic PDE."
   ]
  },
  {
   "cell_type": "markdown",
   "metadata": {
    "slideshow": {
     "slide_type": "-"
    }
   },
   "source": [
    "1. Canonical parabolic PDE: the diffusion equation, $\\ \\displaystyle \\kappa \\nabla^2 \\phi  - \\frac{\\partial T}{\\partial t} = 0$,\n",
    "    $$x\\to x,\\quad y\\to t,\\quad \\alpha \\to \\kappa,\\quad \\varepsilon \\to - 1,\\quad \\beta, \\gamma, \\delta, f \\to 0 \\quad\\Rightarrow\\quad \\beta^2 - 4\\alpha\\gamma = 0.$$\n",
    "3. Canonical elliptic PDE: the Poisson equation, $\\ \\nabla^2 \\phi = \\rho$,\n",
    "    $$x\\to x,\\quad y\\to y,\\quad\\alpha, \\gamma \\to 1,\\quad f \\to \\rho,\\quad \\beta, \\delta, \\varepsilon \\to 0 \\quad\\Rightarrow\\quad \\beta^2 - 4\\alpha\\gamma = -4<0.$$\n",
    "2. Canonical hyperbolic PDE: the wave equation, $\\ \\displaystyle c^2 \\nabla^2 \\phi  - \\frac{\\partial^2 \\phi}{\\partial t^2} = 0.$\n",
    "    $$x\\to x,\\quad y\\to t,\\quad \\alpha \\to c^2,\\quad \\gamma \\to - 1,\\quad \\beta, \\delta, \\varepsilon, f \\to 0 \\quad\\Rightarrow\\quad \\beta^2 - 4\\alpha\\gamma = 4c^2 >0.$$\n",
    "\n",
    "Note: we use these expressions even if $\\nabla^2 = \\partial_x^2 + \\partial_y^2 + \\partial_z^2$, i.e., for 4D PDEs. \n",
    "It is a \"perversion\" of the original classification (see http://www.math.toronto.edu/courses/apm346h1/20129/LA.html), but usually harmless in Physics."
   ]
  },
  {
   "cell_type": "markdown",
   "metadata": {
    "slideshow": {
     "slide_type": "subslide"
    }
   },
   "source": [
    "* Solving partial differential equations is one of the pinnacles of computational physics, bringing together many methods.\n",
    "* Parabolic, hyperbolic, elliptic PDE: each type comes with design decisions on how to discretize and implement numerical methods,\n",
    "* stability is crucial,\n",
    "* accuracy is too."
   ]
  },
  {
   "cell_type": "markdown",
   "metadata": {
    "slideshow": {
     "slide_type": "subslide"
    }
   },
   "source": [
    "## Calculating the second derivative\n",
    "\n",
    "* Recall central difference calculation of 2nd derivative (§5.10.5):\n",
    "$$f''(x) = \\frac{f(x+h) - 2f(x)+ f(x-h)}{h^2} - \\frac{1}{12}h^2 f^{(4)}(x) + \\dots{}$$"
   ]
  },
  {
   "cell_type": "markdown",
   "metadata": {
    "slideshow": {
     "slide_type": "fragment"
    }
   },
   "source": [
    "## General approach\n",
    "\n",
    "* Discretize system spatially and temporally. Can use\n",
    "    * Finite difference\n",
    "    * Spectral coefficients\n",
    "    * Etc.\n",
    "* $\\Rightarrow$ set of coupled ODEs that you need to solve in an efficient way.\n",
    "* Spatial derivatives bring information in from neighbouring points $\\Rightarrow$ coupling,\n",
    "* $\\Rightarrow$ errors depend on space and time and can get wave-like characteristics."
   ]
  },
  {
   "cell_type": "markdown",
   "metadata": {
    "cell_style": "split",
    "slideshow": {
     "slide_type": "slide"
    }
   },
   "source": [
    "# Elliptic equations\n",
    "\n",
    "* For solutions of Laplace's or Poisson's equation.\n",
    "* E.g.: electrostatics, with electric potential $\\phi$ s.t. $\\vec E  = \\nabla \\phi$, in the absence of charges ($\\rho \\equiv 0$).\n",
    "* Gauss' law:\n",
    "$$\\frac{\\partial^2 \\phi}{\\partial x^2} + \\frac{\\partial^2 \\phi}{\\partial y^2} = 0$$"
   ]
  },
  {
   "cell_type": "markdown",
   "metadata": {
    "cell_style": "split",
    "slideshow": {
     "slide_type": "-"
    }
   },
   "source": [
    "![Newman fig. 9.2](fig9-2.png)"
   ]
  },
  {
   "cell_type": "markdown",
   "metadata": {
    "slideshow": {
     "slide_type": "subslide"
    }
   },
   "source": [
    "2D Laplacian:\n",
    "$$\\nabla^2 \\phi  = \\frac{\\partial^2 \\phi}{\\partial x^2} + \\frac{\\partial^2 \\phi}{\\partial y^2},$$\n",
    "\n",
    "On regular square grid of cell side length $a$, finite difference form is\n",
    "\\begin{align}\n",
    "\\frac{\\partial^2 \\phi}{\\partial x^2} & \\approx \\frac{\\phi(x+a, y) - 2\\phi(x, y)+ \\phi(x-a, y)}{a^2},\\\\\n",
    "\\frac{\\partial^2 \\phi}{\\partial y^2} & \\approx \\frac{\\phi(x, y+a) - 2\\phi(x, y)+ \\phi(x, y-a)}{a^2}.\n",
    "\\end{align}\n",
    "Gauss's law:\n",
    "$$0 \\approx \\phi(x+a, y) + \\phi(x-a, y) + \\phi(x, y+a) + \\phi(x, y-a) - 4\\phi(x).$$"
   ]
  },
  {
   "cell_type": "markdown",
   "metadata": {
    "slideshow": {
     "slide_type": "subslide"
    }
   },
   "source": [
    "* Put together a series of equations of the form\n",
    "    $$\\phi(x+a, y) + \\phi(x-a, y) + \\phi(x, y+a) + \\phi(x, y-a) - 4\\phi(x) = 0$$\n",
    "    for each $x$ and $y$, subject to boundary conditions.\n",
    "* $\\phi$ or derivative $\\partial\\phi/\\partial \\xi$ ($\\xi = x,\\ y,$ or both) given on boundary. How would you handle these?\n",
    "* If $\\phi$ given, use this value for adjacent points.\n",
    "* If $\\partial\\phi/\\partial \\xi$ given, find algebraic relationship between points near to boundary using finite difference.\n",
    "* Could solve using matrix methods:\n",
    "    $$\\mathbf L \\phi = \\mathbf R \\phi,$$\n",
    "    but a simpler method is possible.\n"
   ]
  },
  {
   "cell_type": "markdown",
   "metadata": {
    "slideshow": {
     "slide_type": "subslide"
    }
   },
   "source": [
    "## Jacobi relaxation method\n",
    "\n",
    "$$\\phi(x+a, y) + \\phi(x-a, y) + \\phi(x, y+a) + \\phi(x, y-a) - 4\\phi(x) = 0$$\n",
    "* Iterate the rule\n",
    "$\\underbrace{\\phi'(x, y)}_{\\text{\"}\\phi\\ prime\\text{\"}} = \\frac14\\left[\\phi(x+a, y) + \\phi(x-a, y) + \\phi(x, y+a) + \\phi(x, y-a)\\right].$\n",
    "* Much like the relaxation method for finding solutions of $f(x) = x$,\n",
    "* For this problem it turns out that Jacobi Relaxation is always stable and so always gives a solution!\n",
    "* Let's look at `laplace.py`"
   ]
  },
  {
   "cell_type": "code",
   "execution_count": 1,
   "metadata": {
    "slideshow": {
     "slide_type": "subslide"
    }
   },
   "outputs": [
    {
     "data": {
      "image/png": "[encoded data removed]",
      "text/plain": [
       "<Figure size 432x288 with 1 Axes>"
      ]
     },
     "metadata": {
      "needs_background": "light"
     },
     "output_type": "display_data"
    }
   ],
   "source": [
    "# %load laplace.py\n",
    "# Newman's laplace.py\n",
    "from numpy import empty, zeros, max\n",
    "from pylab import imshow, gray, show\n",
    "\n",
    "# Constants\n",
    "M = 100         # Grid squares on a side\n",
    "V = 1.0         # Voltage at top wall\n",
    "target = 1e-6   # [V] Target accuracy\n",
    "\n",
    "# Create arrays to hold potential values\n",
    "phi = zeros([M+1, M+1], float)\n",
    "phi[0, :] = V\n",
    "phiprime = empty([M+1, M+1], float)\n",
    "\n",
    "# Main loop\n",
    "delta = 1.0\n",
    "while delta > target:\n",
    "\n",
    "    # Calculate new values of the potential\n",
    "    for i in range(M+1):\n",
    "        for j in range(M+1):\n",
    "            if i == 0 or i == M or j == 0 or j == M:\n",
    "                phiprime[i, j] = phi[i, j]\n",
    "            else:\n",
    "                phiprime[i, j] = (phi[i+1, j] + phi[i-1, j]\n",
    "                                  + phi[i, j+1] + phi[i, j-1])/4\n",
    "\n",
    "    # Calculate maximum difference from old values\n",
    "    delta = max(abs(phi-phiprime))\n",
    "\n",
    "    # Swap the two arrays around\n",
    "    phi, phiprime = phiprime, phi\n",
    "\n",
    "# Make a plot\n",
    "imshow(phi)\n",
    "gray()\n",
    "show()"
   ]
  },
  {
   "cell_type": "markdown",
   "metadata": {
    "slideshow": {
     "slide_type": "subslide"
    }
   },
   "source": [
    "## Overrelaxation method\n",
    "\n",
    "$$\\phi'(x, y) = (1+\\omega)\\left[\\frac{\\phi(x+a, y) + \\phi(x-a, y) + \\phi(x, y+a) + \\phi(x, y-a)}4\\right] - \\omega \\phi(x, y).$$\n",
    "* When it works, it ususally speeds up the calculation.\n",
    "* Not always stable! How to choose $\\omega$ is not always reproducible.\n",
    "* see Lab \\#4 (Newman's exercise 6.11) for a similar problem for finding $f(x)=x$."
   ]
  },
  {
   "cell_type": "markdown",
   "metadata": {
    "slideshow": {
     "slide_type": "subslide"
    }
   },
   "source": [
    "## Gauss-Seidel method\n",
    "\n",
    "* Replace function on the fly as in\n",
    "$$\\phi(x, y) \\leftarrow \\frac{\\phi(x+a, y) + \\phi(x-a, y) + \\phi(x, y+a) + \\phi(x, y-a)}4.$$\n",
    "* Crucial difference: the LHS is $\\phi$, not $\\phi'$: we use newer values as they are being computed\n",
    "* (Jacobi used only old values to compute new one).\n",
    "* This can be shown to run faster.\n",
    "* Can be combined with overrelaxation."
   ]
  },
  {
   "cell_type": "markdown",
   "metadata": {
    "slideshow": {
     "slide_type": "subslide"
    }
   },
   "source": [
    "The old Jacobi code snippet:"
   ]
  },
  {
   "cell_type": "code",
   "execution_count": null,
   "metadata": {},
   "outputs": [],
   "source": [
    "# Calculate new values of the potential\n",
    "for i in range(M+1):\n",
    "    for j in range(M+1):\n",
    "        if i == 0 or i == M or j == 0 or j == M:\n",
    "            phiprime[i, j] = phi[i, j]\n",
    "        else:\n",
    "            phiprime[i, j] = (phi[i+1, j] + phi[i-1, j]\n",
    "                              + phi[i, j+1] + phi[i, j-1])/4"
   ]
  },
  {
   "cell_type": "markdown",
   "metadata": {},
   "source": [
    "becomes:"
   ]
  },
  {
   "cell_type": "code",
   "execution_count": null,
   "metadata": {},
   "outputs": [],
   "source": [
    "# Calculate new values of the potential\n",
    "for i in range(1, M):  # CHANGE HERE: boundaries never updated\n",
    "    for j in range(1, M):  # CHANGE HERE\n",
    "        phi[i, j] = (phi[i+1, j] + phi[i-1, j]  # NO PHIPRIME\n",
    "                     + phi[i, j+1] + phi[i, j-1])/4"
   ]
  },
  {
   "cell_type": "markdown",
   "metadata": {
    "slideshow": {
     "slide_type": "slide"
    }
   },
   "source": [
    "# Parabolic PDEs: FTCS method\n",
    "\n",
    "* Stands for \"Forward Time, Centred Space\".\n",
    "* Consider the 1D heat equation:\n",
    "$$\\frac{\\partial T}{\\partial t} = \\kappa\\frac{\\partial^2 T}{\\partial x^2},$$\n",
    "* B.Cs.:\n",
    "    $$T(x=0, t) = T_0, \\quad T(x=L, t) = T_L.$$\n",
    "* I.C.:\n",
    "    $$T(x, t=0) = T_0 +  (T_L - T_0)\\left(\\frac{f(x) - f(0)}{f(L) - f(0)}\\right)$$"
   ]
  },
  {
   "cell_type": "markdown",
   "metadata": {
    "slideshow": {
     "slide_type": "subslide"
    }
   },
   "source": [
    "**Step 1: Discretize in space**\n",
    "\n",
    "$\\displaystyle x_m = \\frac{m}{M}L = am, \\quad m=0\\dots{}M, \\quad a = \\frac{L}M$,\n",
    "\n",
    "$T_m(t) = \\left[T_0(t), \\dots{}, T_{M}(t)\\right]$\n",
    "\n",
    "$\\displaystyle \\left.\\frac{\\partial^2 T}{\\partial x^2}\\right|_{x=x_m, t} \\approx \\frac{T_{m+1} - 2 T_m + T_{m-1}}{a^2}\\quad$ (\"centred space\", CS)"
   ]
  },
  {
   "cell_type": "markdown",
   "metadata": {
    "slideshow": {
     "slide_type": "subslide"
    }
   },
   "source": [
    "**Step 2: Discretize in time**\n",
    "\n",
    "$\\displaystyle \\frac{d T_m}{d t} \\approx \\kappa\\frac{T_{m+1} - 2 T_m + T_{m-1}}{a^2},\\quad m = 1 \\dots{}, M-1$\n",
    "\n",
    "Let $t_n = nh$, $h$ the time step.\n",
    "\n",
    "Let $T_m(t_n) \\equiv T_m^n$.\n",
    "\n",
    "$\\displaystyle \\Rightarrow \\left.\\frac{\\partial T}{\\partial t}\\right|_{x=ma, t=nh} \\approx \\frac{T_{m}^{n+1} - T_m^n}{h} \\equiv \\kappa\\frac{T_{m+1}^n - 2 T_m^n + T_{m-1}^n}{a^2}$ (\"Forward (Euler) Time\", FT).\n",
    "\n",
    "$\\Rightarrow$ **Explicit FTCS method:**\n",
    "$$\\boxed{T_m^{n+1} = T_m^n + \\frac{\\kappa h}{a^2}\\left(T_{m+1}^n - 2 T_m^n + T_{m-1}^n\\right)}.$$"
   ]
  },
  {
   "cell_type": "markdown",
   "metadata": {
    "slideshow": {
     "slide_type": "slide"
    }
   },
   "source": [
    "# Intro to stability analysis"
   ]
  },
  {
   "cell_type": "markdown",
   "metadata": {
    "slideshow": {
     "slide_type": "subslide"
    }
   },
   "source": [
    "## Von Neumann Stability Analysis\n",
    "\n",
    "* How can we determine stability in PDEs?\n",
    "* A simple way is to consider a single spatial Fourier mode.\n",
    "* $T_m^n$ as an inverse DFT:\n",
    "    $$T_m^n = \\sum_k \\widehat T_k^n \\exp(ikx_m)$$\n",
    "* If $T_m^n = \\widehat T_k^n \\exp(ikx_m) = \\widehat T_k^n\\exp(ikam)$ (one Fourier mode in $x$), and\n",
    "    $$T_m^{n+1} = T_m^n + \\frac{\\kappa h}{a^2}\\left(T_{m+1}^n - 2 T_m^n + T_{m-1}^n\\right)$$\n",
    "    becomes\n",
    "    $$\\widehat T_k^{n+1}\\text e^{ikam} = \\left(1 - \\frac{2\\kappa h }{a^2}\\right) \\widehat T_k^n\\text e^{ikam} + \\frac{\\kappa h}{a^2}\\left(\\widehat T_{k}^n\\text e^{ika(m+1)} - \\widehat T_k^n \\text e^{ika(m-1)}\\right)$$\n",
    "    $$\\Rightarrow \\left|\\frac{\\widehat T_k^{n+1}}{\\widehat T_k^n}\\right| = 1 + \\frac{\\kappa h}{a^2}\\left(\\text e^{ika} + \\text e^{-ika} - 2\\right) = \\left|1 - \\frac{4h\\kappa}{a^2}\\sin^2\\left(\\frac{ka}{2}\\right)\\right|.$$\n",
    "* This is the growth factor, and it should be less than unity if the solution is not meant to grow, i.e.:\n",
    "$$\\boxed{h \\leq \\frac{a^2}{2\\kappa}}. \\qquad\\textit{(independent of $k$!)}$$"
   ]
  },
  {
   "cell_type": "markdown",
   "metadata": {
    "slideshow": {
     "slide_type": "subslide"
    }
   },
   "source": [
    "* FTCS stable for the parabolic equation, provided resolution is adequate ($a\\geq \\sqrt{2\\kappa h}$).\n",
    "\n",
    "## FTCS for the wave equation\n",
    "\n",
    "* Reminder: wave equation is hyperbolic,\n",
    "$$\\frac{\\partial^2 \\phi}{\\partial t^2} = c^2\\frac{\\partial^2 \\phi}{\\partial x^2},$$\n",
    "and is subject to suitable boundary and initial conditions.\n",
    "* Spatially: $\\displaystyle \\frac{\\partial^2 \\phi_m}{\\partial t^2} \\approx \\frac{c^2}{a^2}\\left(\\phi_{m+1}  -2\\phi_m + \\phi_{m-1}\\right), \\quad m = 1, \\dots{}, M-1$.\n",
    "* Now transform to pairs of 1st-order ODEs:\n",
    "$$\\frac{d\\phi_m}{dt} = \\psi_m, \\quad \\text{and}\\quad \\frac{d\\psi_m}{dt} = \\frac{c^2}{a^2}\\left(\\phi_{m+1} - 2\\phi_m + \\phi_{m-1}\\right)$$\n",
    "and discretize using forward Euler ($2M$ ODEs)."
   ]
  },
  {
   "cell_type": "markdown",
   "metadata": {
    "slideshow": {
     "slide_type": "subslide"
    }
   },
   "source": [
    "$$\\frac{d\\phi_m}{dt} = \\psi_m, \\quad \\text{and}\\quad \\frac{d\\psi_m}{dt} = \\frac{c^2}{a^2}\\left(\\phi_{m+1} - 2\\phi_m + \\phi_{m-1}\\right)$$\n",
    "\n",
    "Using forward Euler for each:\n",
    "\n",
    "\\begin{align*}\n",
    "\\phi_m^{n+1} & = \\phi_m^{n} + h\\psi_m^{n},\\\\\n",
    "\\psi_m^{n+1} & = \\psi_m^{n} + h\\frac{c^2}{a^2}\\left(\\phi_{m-1}^{n} + \\phi_{m+1}^{n} - 2\\phi_m^{n}\\right).\n",
    "\\end{align*}\n",
    "or, equivalently:\n",
    "$$\n",
    "\\begin{bmatrix}\n",
    "    \\phi_m^{n+1} \\\\\n",
    "    \\psi_m^{n+1}\n",
    "\\end{bmatrix}\n",
    "= \n",
    "\\begin{bmatrix}\n",
    "    1 & h \\\\\n",
    "    -\\frac{2hc^2}{a^2} & 1\n",
    "\\end{bmatrix}\n",
    "\\begin{bmatrix}\n",
    "    \\phi_m^{n} \\\\\n",
    "    \\psi_m^{n}\n",
    "\\end{bmatrix}\n",
    "+\n",
    "\\begin{bmatrix}\n",
    "    0 \\\\\n",
    "    \\frac{c^2 h}{a^2}\\left(\\phi_{m+1}^n + \\phi_{m-1}^n\\right)\n",
    "\\end{bmatrix}\n",
    "$$"
   ]
  },
  {
   "cell_type": "markdown",
   "metadata": {
    "slideshow": {
     "slide_type": "subslide"
    }
   },
   "source": [
    "Recall $$\n",
    "\\begin{bmatrix}\n",
    "    \\phi_m^{n+1} \\\\\n",
    "    \\psi_m^{n+1}\n",
    "\\end{bmatrix}\n",
    "= \n",
    "\\begin{bmatrix}\n",
    "    1 & h \\\\\n",
    "    -\\frac{2hc^2}{a^2} & 1\n",
    "\\end{bmatrix}\n",
    "\\begin{bmatrix}\n",
    "    \\phi_m^{n} \\\\\n",
    "    \\psi_m^{n}\n",
    "\\end{bmatrix}\n",
    "+\n",
    "\\begin{bmatrix}\n",
    "    0 \\\\\n",
    "    \\frac{c^2 h}{a^2}\\left(\\phi_{m+1}^n + \\phi_{m-1}^n\\right)\n",
    "\\end{bmatrix}\n",
    "$$\n",
    "\n",
    "Consider a single Fourier mode,\n",
    "$$\n",
    "\\begin{bmatrix}\n",
    "    \\phi_m^n \\\\\n",
    "    \\psi_m^n\n",
    "\\end{bmatrix}\n",
    "= \n",
    "\\begin{bmatrix}\n",
    "    \\widehat\\phi_k^{m} \\\\\n",
    "    \\widehat\\psi_k^{m}\n",
    "\\end{bmatrix}\\exp(ikma)\n",
    "$$\n",
    "and we obtain, after some algebra\n",
    "$$\n",
    "\\begin{bmatrix}\n",
    "    \\widehat\\phi_k^{m+1} \\\\\n",
    "    \\widehat\\psi_k^{m+1}\n",
    "\\end{bmatrix}\n",
    "=\n",
    "\\mathbf A \\begin{bmatrix}\n",
    "    \\widehat\\phi_k^{m} \\\\\n",
    "    \\widehat\\psi_k^{m}\n",
    "\\end{bmatrix}\\exp(ikma),$$\n",
    "$$\n",
    "\\text{with}\\quad \\mathbf A = \n",
    "\\begin{bmatrix}\n",
    "    1 & h \\\\\n",
    "    -hr^2 & 1\n",
    "\\end{bmatrix}\\quad \\text{and}\\quad\n",
    "r^2 = \\frac{2c}{a}\\sin\\frac{ka}{2},\n",
    "$$\n",
    "which **does** depend on $k$."
   ]
  },
  {
   "cell_type": "markdown",
   "metadata": {
    "slideshow": {
     "slide_type": "subslide"
    }
   },
   "source": [
    "$$\n",
    "\\begin{bmatrix}\n",
    "    \\widehat\\phi_k^{m+1} \\\\\n",
    "    \\widehat\\psi_k^{m+1}\n",
    "\\end{bmatrix}\n",
    "=\n",
    "\\mathbf A \\begin{bmatrix}\n",
    "    \\widehat\\phi_k^{m} \\\\\n",
    "    \\widehat\\psi_k^{m}\n",
    "\\end{bmatrix}\\exp(ikma),$$\n",
    "$$\\text{with}\\quad \\mathbf A = \n",
    "\\begin{bmatrix}\n",
    "    1 & h \\\\\n",
    "    -hr^2 & 1\n",
    "\\end{bmatrix}\\quad \\text{and}\\quad\n",
    "r = \\frac{2c}{a}\\sin\\frac{ka}{2}.\n",
    "$$\n",
    "\n",
    "* Eigenvalues of $\\mathbf A$ are $\\lambda_\\pm = 1\\pm ihr$,\n",
    "* therefore, $|\\lambda_\\pm|^2 = 1 + h^2 r^2 \\geq 1$.\n",
    "* Define corresponding eigenvectors $\\mathbf V_\\pm$, suppose initial condition is $\\alpha_+\\mathbf V_+ + \\alpha_- \\mathbf V_-$.\n",
    "* After $p$ time steps, this becomes $\\alpha_+\\lambda_+^p \\mathbf V_+ + \\alpha_- \\lambda_-^p \\mathbf V_-$, which will grow without bounds!\n",
    "\n",
    "**$\\Rightarrow$ FTCS always unstable for the wave equation!**"
   ]
  },
  {
   "cell_type": "markdown",
   "metadata": {
    "cell_style": "center",
    "slideshow": {
     "slide_type": "slide"
    }
   },
   "source": [
    "# Summary\n",
    "\n",
    "* 2nd-order PDEs can be elliptical, parabolic, hyperbolic.\n",
    "* Elliptical equations (e.g., Poisson eqn.):\n",
    "    * Jacobi relaxation (always stable),\n",
    "    * Speed-up with overrelaxation (not always stable),\n",
    "    * Gauss-Seidel (overrelaxed or not): replace on the fly; more stable than Jacobi when overrelaxing.\n",
    "* Parabolic PDEs (e.g., heat eqn):\n",
    "    * FTCS (Forward Time, Centred Space) scheme: centred finite-diff. in space, forward Euler in time\n",
    "    * Von Neumann analysis says stable if sufficient resolution space.\n",
    "* Hyperbolic PDEs (e.g., wave eqn.):\n",
    "    * Von Neumann analysis says FTCS never stable.\n",
    "    * See next week for better schemes.\n",
    "* Von Neumann stability analysis: plug a Fourier mode, see if it grows or not."
   ]
  }
 ],
 "metadata": {
  "celltoolbar": "Slideshow",
  "kernelspec": {
   "display_name": "Python 3",
   "language": "python",
   "name": "python3"
  },
  "language_info": {
   "codemirror_mode": {
    "name": "ipython",
    "version": 3
   },
   "file_extension": ".py",
   "mimetype": "text/x-python",
   "name": "python",
   "nbconvert_exporter": "python",
   "pygments_lexer": "ipython3",
   "version": "3.8.3"
  }
 },
 "nbformat": 4,
 "nbformat_minor": 2
}
