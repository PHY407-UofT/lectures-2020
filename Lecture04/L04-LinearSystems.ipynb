{
 "cells": [
  {
   "cell_type": "markdown",
   "metadata": {
    "slideshow": {
     "slide_type": "skip"
    }
   },
   "source": [
    "*Supporting textbook chapters for week 4: 6.1, 6.2, 6.3*"
   ]
  },
  {
   "cell_type": "markdown",
   "metadata": {
    "slideshow": {
     "slide_type": "slide"
    }
   },
   "source": [
    "**Lecture 4, topics:**\n",
    "* Solving linear systems\n",
    "* Roots of nonlinear equations\n",
    "* Minima: golden ratio search"
   ]
  },
  {
   "cell_type": "markdown",
   "metadata": {
    "slideshow": {
     "slide_type": "slide"
    }
   },
   "source": [
    "# Solving linear systems\n",
    "\n",
    "## Gaussian elimination\n",
    "\n",
    "* In linear algebra courses, you learn to solve linear systems of the form\n",
    "$$A x = v$$\n",
    "using Gaussian elimination.\n",
    "* This works pretty well in many cases. Let's do an example based on Newman's `gausselim.py`, for\n",
    "$$A =\n",
    "\\begin{bmatrix}\n",
    "6 & 5 \\\\\n",
    "4 & 2\n",
    "\\end{bmatrix}, \\qquad v = \\binom{2}{1}$$"
   ]
  },
  {
   "cell_type": "code",
   "execution_count": 4,
   "metadata": {
    "slideshow": {
     "slide_type": "fragment"
    }
   },
   "outputs": [
    {
     "name": "stdout",
     "output_type": "stream",
     "text": [
      "[-0.5  1. ]\n"
     ]
    }
   ],
   "source": [
    "import numpy as np\n",
    "import gausselim_as_func as ge\n",
    "\n",
    "A1 = np.array([[6, 5], [4, 3]], float)  \n",
    "V1 = np.array([2, 1], float)\n",
    "\n",
    "ge.gausselim(A1, V1)"
   ]
  },
  {
   "cell_type": "markdown",
   "metadata": {
    "slideshow": {
     "slide_type": "subslide"
    }
   },
   "source": [
    "Refresher on Gaussian elimination (how `gausselim` works): the previous equation was\n",
    "$$6x + 5y = 2,$$\n",
    "$$4x + 3y = 1$$\n",
    "1. Divide 1st line by 1st (top-left) coefficient:\n",
    "    $$x + 5y/6 = 1/3,$$\n",
    "    $$4x + 3y = 1$$"
   ]
  },
  {
   "cell_type": "markdown",
   "metadata": {
    "slideshow": {
     "slide_type": "fragment"
    }
   },
   "source": [
    "2. $4\\times \\text{1st eqn} - \\text{2nd eqn} = \\text{new 2nd eqn}$:\n",
    "    $$x + 5y/6 = 1/3,$$\n",
    "    $$0x + y/3 = 1/3$$\n",
    "    More eqns $\\Rightarrow$ cancel all 1st coefficents of each line similarly."
   ]
  },
  {
   "cell_type": "markdown",
   "metadata": {
    "slideshow": {
     "slide_type": "fragment"
    }
   },
   "source": [
    "3. (if more eqns: repeat from 2nd line to eliminate all 2nd coefficients below, and so on...)\n",
    "\n",
    "4. (or 3.) Back-substitute: $y=1 \\Rightarrow x + 5/6 = 1/3 \\Rightarrow x = -1/2$."
   ]
  },
  {
   "cell_type": "code",
   "execution_count": 5,
   "metadata": {
    "slideshow": {
     "slide_type": "subslide"
    }
   },
   "outputs": [],
   "source": [
    "# %load gausselim_as_func\n",
    "from numpy import array, empty\n",
    "\n",
    "\n",
    "def gausselim(A, v):\n",
    "\n",
    "    N = len(v)\n",
    "\n",
    "    # Gaussian elimination\n",
    "    for m in range(N):\n",
    "\n",
    "        # Divide by the diagonal element\n",
    "        div = A[m, m]\n",
    "        A[m, :] /= div\n",
    "        v[m] /= div\n",
    "\n",
    "        # Now subtract from the lower rows\n",
    "        for i in range(m+1, N):\n",
    "            mult = A[i, m]\n",
    "            A[i, :] -= mult*A[m, :]\n",
    "            v[i] -= mult*v[m]\n",
    "\n",
    "    # Backsubstitution\n",
    "    x = empty(N, float)\n",
    "    for m in range(N-1, -1, -1):\n",
    "        x[m] = v[m]\n",
    "        for i in range(m+1, N):\n",
    "            x[m] -= A[m, i]*x[i]\n",
    "\n",
    "    print(x)\n"
   ]
  },
  {
   "cell_type": "markdown",
   "metadata": {
    "slideshow": {
     "slide_type": "subslide"
    }
   },
   "source": [
    "## When Gaussian elimination breaks down\n",
    "\n",
    "The example below is a valid system but the original code will \"break\".\n",
    "$$A =\n",
    "\\begin{bmatrix}\n",
    "10^{-20} & 1 \\\\\n",
    "1 & 1\n",
    "\\end{bmatrix}, \\qquad v = \\binom{1}{0}.$$\n",
    "In theory, $\\displaystyle x \\approx \\binom{-1}{1}$. But according to `gausselim`:"
   ]
  },
  {
   "cell_type": "code",
   "execution_count": 6,
   "metadata": {
    "slideshow": {
     "slide_type": "subslide"
    }
   },
   "outputs": [
    {
     "name": "stdout",
     "output_type": "stream",
     "text": [
      "[0. 1.]\n"
     ]
    }
   ],
   "source": [
    "A2 = np.array([[1e-20, 1], [1, 1]], float)  # I imported np earlier\n",
    "V2 = np.array([1, 0], float)\n",
    "\n",
    "ge.gausselim(A2, V2)"
   ]
  },
  {
   "cell_type": "markdown",
   "metadata": {
    "slideshow": {
     "slide_type": "fragment"
    }
   },
   "source": [
    "Don't divide by (close to) zero!\n",
    "* Had the top-left number actually been zero, Python would have thrown a `ZeroDivisionError`,\n",
    "* with $10^{-20}<$ machine precision, no tripwire from Python, but rounding errors."
   ]
  },
  {
   "cell_type": "code",
   "execution_count": 7,
   "metadata": {},
   "outputs": [
    {
     "name": "stdout",
     "output_type": "stream",
     "text": [
      "1/1e-20 = 1e+20\n"
     ]
    },
    {
     "ename": "ZeroDivisionError",
     "evalue": "float division by zero",
     "output_type": "error",
     "traceback": [
      "\u001b[0;31m---------------------------------------------------------------------------\u001b[0m",
      "\u001b[0;31mZeroDivisionError\u001b[0m                         Traceback (most recent call last)",
      "\u001b[0;32m<ipython-input-7-3e9b82241f2b>\u001b[0m in \u001b[0;36m<module>\u001b[0;34m\u001b[0m\n\u001b[1;32m      1\u001b[0m \u001b[0mprint\u001b[0m\u001b[0;34m(\u001b[0m\u001b[0;34m\"1/1e-20 =\"\u001b[0m\u001b[0;34m,\u001b[0m \u001b[0;36m1\u001b[0m\u001b[0;34m/\u001b[0m\u001b[0;36m1e-20\u001b[0m\u001b[0;34m)\u001b[0m  \u001b[0;31m# possible because smaller than the biggest number representable\u001b[0m\u001b[0;34m\u001b[0m\u001b[0;34m\u001b[0m\u001b[0m\n\u001b[0;32m----> 2\u001b[0;31m \u001b[0mprint\u001b[0m\u001b[0;34m(\u001b[0m\u001b[0;34m\"1/0\"\u001b[0m\u001b[0;34m,\u001b[0m \u001b[0;36m1\u001b[0m\u001b[0;34m/\u001b[0m\u001b[0;36m0.\u001b[0m\u001b[0;34m)\u001b[0m  \u001b[0;31m# that on the other hand is too obvious\u001b[0m\u001b[0;34m\u001b[0m\u001b[0;34m\u001b[0m\u001b[0m\n\u001b[0m",
      "\u001b[0;31mZeroDivisionError\u001b[0m: float division by zero"
     ]
    }
   ],
   "source": [
    "print(\"1/1e-20 =\", 1/1e-20)  # possible because smaller than the biggest number representable\n",
    "print(\"1/0\", 1/0.)  # that on the other hand is too obvious"
   ]
  },
  {
   "cell_type": "markdown",
   "metadata": {
    "slideshow": {
     "slide_type": "subslide"
    }
   },
   "source": [
    "As of two years ago, the following gave the right answer, but it now gives the same, wrong result."
   ]
  },
  {
   "cell_type": "code",
   "execution_count": 13,
   "metadata": {},
   "outputs": [
    {
     "data": {
      "text/plain": [
       "array([0., 1.])"
      ]
     },
     "execution_count": 13,
     "metadata": {},
     "output_type": "execute_result"
    }
   ],
   "source": [
    "np.linalg.solve(A2, V2)"
   ]
  },
  {
   "cell_type": "markdown",
   "metadata": {
    "slideshow": {
     "slide_type": "-"
    }
   },
   "source": [
    "SciPy does not do better, but at least it does so in a useful way."
   ]
  },
  {
   "cell_type": "code",
   "execution_count": 15,
   "metadata": {},
   "outputs": [
    {
     "name": "stderr",
     "output_type": "stream",
     "text": [
      "<ipython-input-15-cb28aa3d214d>:2: LinAlgWarning: Ill-conditioned matrix (rcond=1e-40): result may not be accurate.\n",
      "  la.solve(A2, V2)\n"
     ]
    },
    {
     "data": {
      "text/plain": [
       "array([0., 1.])"
      ]
     },
     "execution_count": 15,
     "metadata": {},
     "output_type": "execute_result"
    }
   ],
   "source": [
    "import scipy.linalg as la\n",
    "la.solve(A2, V2)"
   ]
  },
  {
   "cell_type": "markdown",
   "metadata": {},
   "source": [
    "Not the topic of this lecture, but always be careful of the evolution of the packages!\n",
    "\n",
    "**For this lab, it is possible that your results will differ, depending on the version of Python, NumPy, or both. Note that I cannot precisely know how, so, make sure your results make sense.**"
   ]
  },
  {
   "cell_type": "markdown",
   "metadata": {
    "slideshow": {
     "slide_type": "subslide"
    }
   },
   "source": [
    "## Partial pivoting: \n",
    "\n",
    "* Eliminates the issue of dividing by zero if diagonal entries become zero (or very close to zero)\n",
    "\n",
    "**Algorithm outline:**\n",
    "1. At $m^\\text{th}$ row, check to see which of the rows below has the largest mth element (absolute value)\n",
    "* Swap this row with the current $m^\\text{th}$ value\n",
    "* Proceed with Gaussian elimination "
   ]
  },
  {
   "cell_type": "code",
   "execution_count": 16,
   "metadata": {},
   "outputs": [
    {
     "name": "stdout",
     "output_type": "stream",
     "text": [
      "[-1.  1.]\n"
     ]
    }
   ],
   "source": [
    "A3 = np.array([[1, 1], [1e-20, 1]], float)  # swapped rows\n",
    "V3 = np.array([0,1], float)  # need to sap this one too\n",
    "\n",
    "ge.gausselim(A3, V3)"
   ]
  },
  {
   "cell_type": "markdown",
   "metadata": {
    "cell_style": "split",
    "slideshow": {
     "slide_type": "subslide"
    }
   },
   "source": [
    "## LU Decomposition\n",
    "\n",
    "### Motivation"
   ]
  },
  {
   "cell_type": "markdown",
   "metadata": {
    "cell_style": "split"
   },
   "source": [
    "![Fig. 9: the symmetric normal mode, in the case $m_A = m_B$.](pendulum_asyn.gif)"
   ]
  },
  {
   "cell_type": "markdown",
   "metadata": {},
   "source": [
    "Take two pendulums, $A$ and $B$, of identical masses and lengths $m$ and $l$, respectively, and coupled by spring of stiffness $k$.\n",
    "Suppose that each is driven differently, as in\n",
    "$$ m\\ddot x_A + \\frac{mg}{l}x_A + k(x_A - x_B) = f_A\\cos(\\omega_1 t),$$\n",
    "$$ m\\ddot x_B + \\frac{mg}{l}x_B -k(x_A - x_B) = f_B\\cos(\\omega_2 t),$$\n",
    "\n",
    "* Can write these equations as $A x = f$.\n",
    "* $A$ is always the same (depends on properties of pendulums and spring),\n",
    "* but $f$ could change.\n",
    "\n",
    "The steps in the Gaussian elimination will always be the same: only need to do it once, then store."
   ]
  },
  {
   "cell_type": "markdown",
   "metadata": {
    "slideshow": {
     "slide_type": "subslide"
    }
   },
   "source": [
    "Gaussian elimination on a matrix $A$ can be written as a series of matrix multiplications $U = L_nL_{n-1}\\cdots L_0A$, where $U$ is upper triangular (i.e., result of Gaussian elimination).\n",
    "\n",
    "$$L^{-1} = L_n L_{n-1} \\cdots L_0 \\Rightarrow\\ Ax =  LUx = F$$\n",
    "\n",
    "The decomposition\n",
    "$$\\boxed{LU = A}$$\n",
    "is called the \"LU decomposition\" of the matrix $A$."
   ]
  },
  {
   "cell_type": "markdown",
   "metadata": {
    "slideshow": {
     "slide_type": "subslide"
    }
   },
   "source": [
    "### How to use LU in practice\n",
    "\n",
    "* Suppose you know $L$, $U$ from $A$.\n",
    "* Then, $$Ax=F \\Leftrightarrow Ux=L^{-1}F.$$\n",
    "* Break down into **two triangular-matrix problems, $Ux=y$ and $Ly = f$**.\n",
    "* Triangular $\\Rightarrow$ back-substitution (pizza cake!)\n",
    "* This method is used by `numpy.linalg.solve`\n",
    "* `scipy.linalg.lu_solve(scipy.linalg.lu_factor(A), f)` is equivalent to `numpy.linalg.solve(A, f)`, but intermediate steps give access to the decomposition and allow storage."
   ]
  },
  {
   "cell_type": "markdown",
   "metadata": {
    "slideshow": {
     "slide_type": "subslide"
    }
   },
   "source": [
    "### Issues with LU Decomposition\n",
    "\n",
    "LU Decomposition fails when $A$ is close to singular, duue to rounding error again.\n",
    "E.g.,\n",
    "$$A = \n",
    "\\begin{bmatrix}\n",
    "    1 & 2 \\\\ 2 & 4\n",
    "\\end{bmatrix}$$\n",
    "is singular, we can't have\n",
    "$$A\\begin{bmatrix}\n",
    "    x_1 \\\\ x_2\n",
    "\\end{bmatrix} = \\begin{bmatrix}\n",
    "    3 \\\\ 5\n",
    "\\end{bmatrix},$$\n",
    "i.e., we can't have $x_1 + 2x_2 = 3$ and $5/2$ at the same time, or any other solution (even a compatible RHS leads to an undetermined coefficient).\n",
    "\n",
    "So, LU won't find a solution when there is none: not really a drawback.\n",
    "But what about \n",
    "$$A = \n",
    "\\begin{bmatrix}\n",
    "    1 & 2 \\\\ 2 & 4+\\delta\n",
    "\\end{bmatrix},$$\n",
    "with $\\delta$ very small compared to other coefficients? \n",
    "Not singular, but LU won't work if smaller than machine precision."
   ]
  },
  {
   "cell_type": "code",
   "execution_count": 17,
   "metadata": {
    "slideshow": {
     "slide_type": "subslide"
    }
   },
   "outputs": [
    {
     "ename": "LinAlgError",
     "evalue": "Singular matrix",
     "output_type": "error",
     "traceback": [
      "\u001b[0;31m---------------------------------------------------------------------------\u001b[0m",
      "\u001b[0;31mLinAlgError\u001b[0m                               Traceback (most recent call last)",
      "\u001b[0;32m<ipython-input-17-67414738b59d>\u001b[0m in \u001b[0;36m<module>\u001b[0;34m\u001b[0m\n\u001b[1;32m      1\u001b[0m \u001b[0mA\u001b[0m \u001b[0;34m=\u001b[0m \u001b[0mnp\u001b[0m\u001b[0;34m.\u001b[0m\u001b[0marray\u001b[0m\u001b[0;34m(\u001b[0m\u001b[0;34m[\u001b[0m\u001b[0;34m[\u001b[0m\u001b[0;36m1\u001b[0m\u001b[0;34m,\u001b[0m \u001b[0;36m2\u001b[0m\u001b[0;34m]\u001b[0m\u001b[0;34m,\u001b[0m \u001b[0;34m[\u001b[0m\u001b[0;36m2\u001b[0m\u001b[0;34m,\u001b[0m \u001b[0;36m4\u001b[0m\u001b[0;34m+\u001b[0m\u001b[0;36m1e-16\u001b[0m\u001b[0;34m]\u001b[0m\u001b[0;34m]\u001b[0m\u001b[0;34m,\u001b[0m \u001b[0mfloat\u001b[0m\u001b[0;34m)\u001b[0m\u001b[0;34m\u001b[0m\u001b[0;34m\u001b[0m\u001b[0m\n\u001b[1;32m      2\u001b[0m \u001b[0mv\u001b[0m \u001b[0;34m=\u001b[0m \u001b[0mnp\u001b[0m\u001b[0;34m.\u001b[0m\u001b[0marray\u001b[0m\u001b[0;34m(\u001b[0m\u001b[0;34m[\u001b[0m\u001b[0;36m3\u001b[0m\u001b[0;34m,\u001b[0m \u001b[0;36m6\u001b[0m\u001b[0;34m]\u001b[0m\u001b[0;34m,\u001b[0m \u001b[0mfloat\u001b[0m\u001b[0;34m)\u001b[0m\u001b[0;34m\u001b[0m\u001b[0;34m\u001b[0m\u001b[0m\n\u001b[0;32m----> 3\u001b[0;31m \u001b[0mnp\u001b[0m\u001b[0;34m.\u001b[0m\u001b[0mlinalg\u001b[0m\u001b[0;34m.\u001b[0m\u001b[0msolve\u001b[0m\u001b[0;34m(\u001b[0m\u001b[0mA\u001b[0m\u001b[0;34m,\u001b[0m \u001b[0mv\u001b[0m\u001b[0;34m)\u001b[0m  \u001b[0;31m# returns error\u001b[0m\u001b[0;34m\u001b[0m\u001b[0;34m\u001b[0m\u001b[0m\n\u001b[0m",
      "\u001b[0;32m<__array_function__ internals>\u001b[0m in \u001b[0;36msolve\u001b[0;34m(*args, **kwargs)\u001b[0m\n",
      "\u001b[0;32m~/opt/anaconda3/lib/python3.8/site-packages/numpy/linalg/linalg.py\u001b[0m in \u001b[0;36msolve\u001b[0;34m(a, b)\u001b[0m\n\u001b[1;32m    397\u001b[0m     \u001b[0msignature\u001b[0m \u001b[0;34m=\u001b[0m \u001b[0;34m'DD->D'\u001b[0m \u001b[0;32mif\u001b[0m \u001b[0misComplexType\u001b[0m\u001b[0;34m(\u001b[0m\u001b[0mt\u001b[0m\u001b[0;34m)\u001b[0m \u001b[0;32melse\u001b[0m \u001b[0;34m'dd->d'\u001b[0m\u001b[0;34m\u001b[0m\u001b[0;34m\u001b[0m\u001b[0m\n\u001b[1;32m    398\u001b[0m     \u001b[0mextobj\u001b[0m \u001b[0;34m=\u001b[0m \u001b[0mget_linalg_error_extobj\u001b[0m\u001b[0;34m(\u001b[0m\u001b[0m_raise_linalgerror_singular\u001b[0m\u001b[0;34m)\u001b[0m\u001b[0;34m\u001b[0m\u001b[0;34m\u001b[0m\u001b[0m\n\u001b[0;32m--> 399\u001b[0;31m     \u001b[0mr\u001b[0m \u001b[0;34m=\u001b[0m \u001b[0mgufunc\u001b[0m\u001b[0;34m(\u001b[0m\u001b[0ma\u001b[0m\u001b[0;34m,\u001b[0m \u001b[0mb\u001b[0m\u001b[0;34m,\u001b[0m \u001b[0msignature\u001b[0m\u001b[0;34m=\u001b[0m\u001b[0msignature\u001b[0m\u001b[0;34m,\u001b[0m \u001b[0mextobj\u001b[0m\u001b[0;34m=\u001b[0m\u001b[0mextobj\u001b[0m\u001b[0;34m)\u001b[0m\u001b[0;34m\u001b[0m\u001b[0;34m\u001b[0m\u001b[0m\n\u001b[0m\u001b[1;32m    400\u001b[0m \u001b[0;34m\u001b[0m\u001b[0m\n\u001b[1;32m    401\u001b[0m     \u001b[0;32mreturn\u001b[0m \u001b[0mwrap\u001b[0m\u001b[0;34m(\u001b[0m\u001b[0mr\u001b[0m\u001b[0;34m.\u001b[0m\u001b[0mastype\u001b[0m\u001b[0;34m(\u001b[0m\u001b[0mresult_t\u001b[0m\u001b[0;34m,\u001b[0m \u001b[0mcopy\u001b[0m\u001b[0;34m=\u001b[0m\u001b[0;32mFalse\u001b[0m\u001b[0;34m)\u001b[0m\u001b[0;34m)\u001b[0m\u001b[0;34m\u001b[0m\u001b[0;34m\u001b[0m\u001b[0m\n",
      "\u001b[0;32m~/opt/anaconda3/lib/python3.8/site-packages/numpy/linalg/linalg.py\u001b[0m in \u001b[0;36m_raise_linalgerror_singular\u001b[0;34m(err, flag)\u001b[0m\n\u001b[1;32m     95\u001b[0m \u001b[0;34m\u001b[0m\u001b[0m\n\u001b[1;32m     96\u001b[0m \u001b[0;32mdef\u001b[0m \u001b[0m_raise_linalgerror_singular\u001b[0m\u001b[0;34m(\u001b[0m\u001b[0merr\u001b[0m\u001b[0;34m,\u001b[0m \u001b[0mflag\u001b[0m\u001b[0;34m)\u001b[0m\u001b[0;34m:\u001b[0m\u001b[0;34m\u001b[0m\u001b[0;34m\u001b[0m\u001b[0m\n\u001b[0;32m---> 97\u001b[0;31m     \u001b[0;32mraise\u001b[0m \u001b[0mLinAlgError\u001b[0m\u001b[0;34m(\u001b[0m\u001b[0;34m\"Singular matrix\"\u001b[0m\u001b[0;34m)\u001b[0m\u001b[0;34m\u001b[0m\u001b[0;34m\u001b[0m\u001b[0m\n\u001b[0m\u001b[1;32m     98\u001b[0m \u001b[0;34m\u001b[0m\u001b[0m\n\u001b[1;32m     99\u001b[0m \u001b[0;32mdef\u001b[0m \u001b[0m_raise_linalgerror_nonposdef\u001b[0m\u001b[0;34m(\u001b[0m\u001b[0merr\u001b[0m\u001b[0;34m,\u001b[0m \u001b[0mflag\u001b[0m\u001b[0;34m)\u001b[0m\u001b[0;34m:\u001b[0m\u001b[0;34m\u001b[0m\u001b[0;34m\u001b[0m\u001b[0m\n",
      "\u001b[0;31mLinAlgError\u001b[0m: Singular matrix"
     ]
    }
   ],
   "source": [
    "A = np.array([[1, 2], [2, 4+1e-16]], float)\n",
    "v = np.array([3, 6], float)\n",
    "np.linalg.solve(A, v)  # returns error"
   ]
  },
  {
   "cell_type": "markdown",
   "metadata": {
    "slideshow": {
     "slide_type": "slide"
    }
   },
   "source": [
    "## QR decomposition\n",
    "\n",
    "For eigensystems: i.e., looking for $\\lambda$'s and $v$'s such that\n",
    "\n",
    "$Av = \\lambda v$, with\n",
    "* $v$: eigenvector\n",
    "* $\\lambda$ eivengalue\n",
    "\n",
    "or looking for $\\Lambda$ and $V$ such that $AV = V\\Lambda$, with\n",
    "* $V$: orthonormal matrix of eigenvectors\n",
    "* $\\Lambda$: diagonal matrix of eigenvalues\n",
    "\n",
    "If $A$ is square and either symmetric-real or Hermitian (complex), we can solve this problem with a QR decomposition."
   ]
  },
  {
   "cell_type": "markdown",
   "metadata": {
    "slideshow": {
     "slide_type": "subslide"
    }
   },
   "source": [
    "### QR algorithm\n",
    "\n",
    "* Use Gram-Schmidt orthogonalization on columns of $A$ $\\Rightarrow$ matrix of orthonormal basis of column vectors $Q$.\n",
    "* Denote QR decomposition of $A$ as $A = QR$, where $R$ is upper-triangular (assume we know how to decompose)\n",
    "* $Q$ orthonormal $\\Rightarrow\\ Q^TQ=I\\ \\Rightarrow\\ R = Q^TA$.\n",
    "\n",
    "Iterate:\n",
    "* $A_1 = RQ = Q^TAQ$ -------------> Define $A_1$\n",
    "* $A_1 = Q_1R_1$ ----------------------->  QR decomposition of $A_1$\n",
    "* $A_2 = R_1Q_1 = Q_1^TQ^TAQQ_1$ ---> Define $A_2$\n",
    "* $A_2 = Q_2R_2$ -----------------------> QR decomposition of $A_2$\n",
    "* $A_3 = \\dots$ \n",
    "\n",
    "... and so on, until obtaining an $A_k$ such that all off-diagnonal terms are small enough."
   ]
  },
  {
   "cell_type": "markdown",
   "metadata": {
    "slideshow": {
     "slide_type": "subslide"
    }
   },
   "source": [
    "* Eventually, \"it can be proven\" that this iteration converges to a (near-)diagonal output $A_k = (Q_k^T\\cdots Q_1^TQ^T)A(QQ_1\\cdots Q_k)$ \n",
    "* diagonal entries of $A_k$ (there are no non-diagonal entries) are the eigenvalues. Let $A_k=\\Lambda$.\n",
    "* The eigenvectors are the columns of $V=QQ_1\\cdots Q_k$\n",
    "\n",
    "$$\\Rightarrow\\ A_k = \\Lambda = V^TAV\\ \\Rightarrow\\ \\boxed{V\\Lambda = AV}$$\n",
    "\n",
    "`numpy.linalg` implements the QR algorithm in the `numpy.linalg.eigh` function"
   ]
  },
  {
   "cell_type": "code",
   "execution_count": 27,
   "metadata": {
    "slideshow": {
     "slide_type": "subslide"
    }
   },
   "outputs": [
    {
     "name": "stdout",
     "output_type": "stream",
     "text": [
      "A:\n",
      " [[2 1]\n",
      " [1 2]]\n",
      "\n",
      "eigenvalues:  [1. 3.]\n",
      "eigenvectors:\n",
      " [[-0.70710678  0.70710678]\n",
      " [ 0.70710678  0.70710678]]\n",
      "\n",
      "AV\n",
      ": [[-0.70710678  2.12132034]\n",
      " [ 0.70710678  2.12132034]]\n",
      "VL:\n",
      " [[-0.70710678  2.12132034]\n",
      " [ 0.70710678  2.12132034]]\n"
     ]
    }
   ],
   "source": [
    "A = np.array([[2,1],[1,2]]) # imported numpy as np earlier\n",
    "\n",
    "print('A:\\n', A)\n",
    "\n",
    "eig_vs, V = np.linalg.eigh(A) # calculate eigenvalues & eigenvectors\n",
    "L = np.diag(eig_vs)  # np.diag constructs a diagonal array\n",
    "\n",
    "print('\\neigenvalues: ', eig_vs)\n",
    "print('eigenvectors:\\n', V)\n",
    "\n",
    "# we expect that AV = VD\n",
    "print('\\nAV\\n:', np.dot(A, V))\n",
    "print('VL:\\n', np.dot(V, L)) # np.diag constructs a diagonal array"
   ]
  },
  {
   "cell_type": "markdown",
   "metadata": {
    "slideshow": {
     "slide_type": "subslide"
    }
   },
   "source": [
    "### Be careful!\n",
    "\n",
    "* `eigh` takes only Hermitian or real symmetric matrices as input\n",
    "* What happens if we try a different (non-symmetric) matrix?\n",
    "\n",
    "$$ A =\n",
    "\\begin{bmatrix}\n",
    "2 & 3 \\\\\n",
    "1 & 2\n",
    "\\end{bmatrix}$$\n"
   ]
  },
  {
   "cell_type": "code",
   "execution_count": 28,
   "metadata": {
    "slideshow": {
     "slide_type": "fragment"
    }
   },
   "outputs": [
    {
     "name": "stdout",
     "output_type": "stream",
     "text": [
      "AV:\n",
      " [[0.70710678 3.53553391]\n",
      " [0.70710678 2.12132034]]\n",
      "VD:\n",
      " [[-0.70710678  2.12132034]\n",
      " [ 0.70710678  2.12132034]]\n"
     ]
    }
   ],
   "source": [
    "A = np.array([[2,3],[1,2]])\n",
    "eig_vs, V = np.linalg.eigh(A) # calculate eigenvalues & eigenvectors\n",
    "L = np.diag(eig_vs)  # np.diag constructs a diagonal array\n",
    "\n",
    "print('AV:\\n', np.dot(A, V))\n",
    "print('VD:\\n', np.dot(V, L)) "
   ]
  },
  {
   "cell_type": "markdown",
   "metadata": {
    "slideshow": {
     "slide_type": "fragment"
    }
   },
   "source": [
    "With non-symmetric matrix: $AV \\neq \\Lambda V$.\n",
    "\n",
    "*Frustrating points:*\n",
    "* *How to QR-decompose?*\n",
    "* *Proof of convergence?*\n",
    "* *Where in the proof is it necessary that $A$ be symmetric?*"
   ]
  },
  {
   "cell_type": "markdown",
   "metadata": {
    "slideshow": {
     "slide_type": "slide"
    }
   },
   "source": [
    "# Finding roots of nonlinear equations\n",
    "\n",
    "Newman discusses several methods of this: Relaxation, Newton's method, bisection...\n",
    "\n",
    "Let's review.\n"
   ]
  },
  {
   "cell_type": "markdown",
   "metadata": {
    "slideshow": {
     "slide_type": "subslide"
    }
   },
   "source": [
    "## Relaxation\n",
    "\n",
    "* Solving for $x$ in an equation $x = f(x)$\n",
    "* Guess an initial value $x_0$ and iterate until the function converges to a fixed point\n",
    "\n",
    "$$x_1 = f(x_0)$$\n",
    "$$x_2 = f(x_1)$$\n",
    "$$\\vdots$$\n",
    "\n",
    "* Caveat: Can only find *stable* fixed points"
   ]
  },
  {
   "cell_type": "code",
   "execution_count": 12,
   "metadata": {
    "slideshow": {
     "slide_type": "skip"
    }
   },
   "outputs": [
    {
     "name": "stdout",
     "output_type": "stream",
     "text": [
      "[0.5]\n",
      "0.9575040240732228\n"
     ]
    },
    {
     "data": {
      "image/png": "[encoded data removed]",
      "text/plain": [
       "<Figure size 432x288 with 1 Axes>"
      ]
     },
     "metadata": {
      "needs_background": "light"
     },
     "output_type": "display_data"
    }
   ],
   "source": [
    "a = 0.5\n",
    "\n",
    "dx = 1\n",
    "\n",
    "threshold = 1e-10\n",
    "\n",
    "def f(x):\n",
    "    return np.tanh(2*x)\n",
    "\n",
    "a_list = [a]\n",
    "print(a_list)\n",
    "\n",
    "while dx > threshold:\n",
    "    a_list.append(f(a_list[-1]))\n",
    "    dx = np.abs(a_list[-1]-a_list[-2])\n",
    "\n",
    "import matplotlib.pyplot as plt\n",
    "\n",
    "plt.plot(a_list)\n",
    "print(a_list[-1])\n",
    "    "
   ]
  },
  {
   "cell_type": "markdown",
   "metadata": {
    "slideshow": {
     "slide_type": "subslide"
    }
   },
   "source": [
    "## Newton's method\n",
    "\n",
    "Solving for $x$ in $f(x) = 0$\n",
    "\n",
    "1. Start with some value $x_1$, calculate tangent $f'(x_1)$\n",
    "2. Travel along tangent line to intersection with $x$-axis at $x_2$\n",
    "3. Repeat (calculate tangent $f'(x_2)$, etc.)\n",
    "\n",
    "\n",
    "Mathematically:\n",
    "\n",
    "$$x_{n+1} = x_n-\\frac{f(x_n)}{f'(x_n)}$$\n",
    "\n",
    "**Secant method:** If analytic form of $f$ is unknown, calculate $f'(x)$ using numerical difference (usually forward or backward, to avoid re-computing yet another $f(x_k)$).\n"
   ]
  },
  {
   "attachments": {},
   "cell_type": "markdown",
   "metadata": {
    "slideshow": {
     "slide_type": "subslide"
    }
   },
   "source": [
    "![By Ralf Pfeifer - de:Image:NewtonIteration Ani.gif, CC BY-SA 3.0, https://commons.wikimedia.org/w/index.php?curid=2268473](NewtonIteration_Ani.gif)"
   ]
  },
  {
   "cell_type": "markdown",
   "metadata": {},
   "source": [
    "**Pro:**\n",
    "* Much faster than relaxation\n",
    "\n",
    "**Cons:**\n",
    "* Need to know $f'$ (although this issue is addressed by the secant method)\n",
    "* Doesn't always converge\n",
    "    * need to have good initial guess (like relaxation),\n",
    "    * may follow slope in wrong direction,\n",
    "    * small $f'$ gives $x_{n+1}$ much farther away,\n",
    "    * sometimes, it just does not converge. Period. (e.g., fractals)"
   ]
  },
  {
   "attachments": {
    "bisect.png": {
     "image/png": "[encoded data removed]"
    }
   },
   "cell_type": "markdown",
   "metadata": {
    "slideshow": {
     "slide_type": "subslide"
    }
   },
   "source": [
    "## Bisection (or Binary Search)\n",
    "\n",
    "* Bracket a single root on either side of the zero of the function $(x_1,x_2)$\n",
    "* Use midpoint $x'$ as subsequent bracket \n",
    "* Choose brackets depending on the sign of the value at the midpoint; \n",
    "     - For this example, $f(x') < 0$, so the next set of brackets is $(x_1,x')$\n",
    "\n",
    "<img src=\"attachment:bisect.png\" width=\"400\">"
   ]
  },
  {
   "cell_type": "markdown",
   "metadata": {},
   "source": [
    "**Pro:**\n",
    "* Incredibly easy to remember, therefore to implement\n",
    "* When there's a root, there's a way (no worries about converging towards at least *a* root)\n",
    "\n",
    "**Cons:**\n",
    "* Only works with a single bracketed root\n",
    "* Can't find \"double roots\" where $f(x)$ does not cross 0 (think $f(x)=x^2$)\n",
    "* Large sample intervals can \"miss\" roots\n",
    "* Slower than Newton"
   ]
  },
  {
   "cell_type": "markdown",
   "metadata": {
    "slideshow": {
     "slide_type": "subslide"
    }
   },
   "source": [
    "### Convergence characteristics\n",
    "\n",
    "![](ConvergenceRoots.png)"
   ]
  },
  {
   "cell_type": "raw",
   "metadata": {
    "slideshow": {
     "slide_type": "subslide"
    }
   },
   "source": [
    "| Method           |Convergence test            |Formula                  |\n",
    "|------------------|-----------------------------|---------------------------|\n",
    "|Relaxation        | Taylor expansion, assuming proximity to root  | $\\epsilon = \\frac{x-x'}{1-1/f'(x)}$  |\n",
    "|Newton  | Taylor expansion about solution of $f(x) = 0$. Very fast convergence. | $\\epsilon = x-x' = O(\\epsilon_0^{2^N})$ |\n",
    "|Binary search | Error decreases by a factor of 2 with each iteration | $\\epsilon = \\frac{\\Delta}{2^N}$|"
   ]
  },
  {
   "cell_type": "markdown",
   "metadata": {
    "slideshow": {
     "slide_type": "subslide"
    }
   },
   "source": [
    "## Finding minima/maxima\n",
    "\n",
    "* Many ways to do this\n",
    "\n",
    "* This week's example: Golden Ratio search"
   ]
  },
  {
   "attachments": {},
   "cell_type": "markdown",
   "metadata": {
    "slideshow": {
     "slide_type": "subslide"
    }
   },
   "source": [
    "## Golden ratio search\n",
    "\n",
    "Similar to binary search: find minimum by shrinking intervals\n",
    "\n",
    "1. Start with 2 points $a,b$ bracketing the interval\n",
    "2. Choose 2 points $x_1,x_2$ inside the interval\n",
    "* Check which of $f(x_1)$ and $f(x_2)$ is lower to determine new brackets\n",
    "\n",
    "Use the golden ratio to determine the most optimal placement of the internal points $x_1, x_2$\n",
    "\n",
    "![Newman's fig. 6.9](fig6-9.png)"
   ]
  },
  {
   "attachments": {},
   "cell_type": "markdown",
   "metadata": {
    "slideshow": {
     "slide_type": "subslide"
    }
   },
   "source": [
    "## Golden ratio search: intuition\n",
    "\n",
    "**[Will expand]**\n",
    "\n",
    "* Interior points $x_1$, $x_2$ are symmetric about the midpoint of the interval\n",
    "* With each iteration, we want the new interior points to have the same ratio to the edges\n",
    "\n",
    "\n",
    "\\begin{align*}\n",
    "\\frac{b-a}{x_2-a} &= \\frac{b'-a'}{x_2'-a'} & & \\frac{A+B}{A}\\\\\n",
    "&= \\frac{x_2-a}{x_1-a}& & \\frac{A}{B}\n",
    "\\end{align*}"
   ]
  }
 ],
 "metadata": {
  "celltoolbar": "Diaporama",
  "kernelspec": {
   "display_name": "Python 3",
   "language": "python",
   "name": "python3"
  },
  "language_info": {
   "codemirror_mode": {
    "name": "ipython",
    "version": 3
   },
   "file_extension": ".py",
   "mimetype": "text/x-python",
   "name": "python",
   "nbconvert_exporter": "python",
   "pygments_lexer": "ipython3",
   "version": "3.8.3"
  }
 },
 "nbformat": 4,
 "nbformat_minor": 2
}
