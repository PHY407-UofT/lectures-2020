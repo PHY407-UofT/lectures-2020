{
 "cells": [
  {
   "cell_type": "markdown",
   "metadata": {
    "slideshow": {
     "slide_type": "subslide"
    }
   },
   "source": [
    "*Supporting textbook chapters for week 6: Chapters 8.1, 8.2, 8.5.1 to 8.5.3*"
   ]
  },
  {
   "cell_type": "markdown",
   "metadata": {
    "slideshow": {
     "slide_type": "slide"
    }
   },
   "source": [
    "Lecture 6, topics:\n",
    "* Euler method\n",
    "* Runge-Kutta methods\n",
    "* Leapfrog and Verlet Methods --- energy conservation"
   ]
  },
  {
   "cell_type": "markdown",
   "metadata": {
    "slideshow": {
     "slide_type": "slide"
    }
   },
   "source": [
    "# Intro\n",
    "\n",
    "Consider ODE(s) with some initial condition(s):\n",
    "* 1D: $\\quad\\displaystyle \\frac{dx}{dt} = f(x, t)\\quad \\text{with}\\quad x(t=0)=x_0.$\n",
    "\n",
    "* $n$D: $\\quad\\displaystyle \\frac{dx_i}{dt} = f_i(x_1,\\dots{},x_n, t)\\quad \\text{with}\\quad x_i(t=0)=x_{i0}.$\n",
    "\n",
    "* higher order, e.g.: \n",
    "$$\\frac{d^3 x}{dt^3} =f(x, t)\\quad \\Leftrightarrow \\quad \\frac{d x}{dt} = v,\\ \\frac{dv}{dt} = a,\\ \\frac{d a}{dt }=f.$$"
   ]
  },
  {
   "cell_type": "markdown",
   "metadata": {
    "slideshow": {
     "slide_type": "fragment"
    }
   },
   "source": [
    "These equations can be impossible to solve anaytically, but easy to solve on a computer."
   ]
  },
  {
   "cell_type": "markdown",
   "metadata": {
    "slideshow": {
     "slide_type": "subslide"
    }
   },
   "source": [
    "## `odeint`\n",
    "\n",
    "* Python has a built in ODE solver called `odeint` located in the `scipy.integrate` module. (*Aside: This module also contains a bunch of integration functions that can do Gaussian quadrature, Simpson's rule etc.*). \n",
    "\n",
    "* See http://docs.scipy.org/doc/scipy/reference/tutorial/integrate.html\n",
    "\n",
    "* Functions as a black box and you don't know how accurate your solution is (you don't know what method was used).  \n",
    "\n",
    "* If that doesn't matter to your specific application, then just use `odeint`. However, if it does matter, then you can write your own ODE solver with the method that you want."
   ]
  },
  {
   "cell_type": "markdown",
   "metadata": {
    "slideshow": {
     "slide_type": "slide"
    }
   },
   "source": [
    "# Euler method\n",
    "\n",
    "Let's solve for \n",
    "$$ \\frac{dx}{dt} = -x^3(t) + \\sin(t) $$"
   ]
  },
  {
   "cell_type": "code",
   "execution_count": 5,
   "metadata": {
    "slideshow": {
     "slide_type": "subslide"
    }
   },
   "outputs": [
    {
     "data": {
      "image/png": "[encoded data removed]",
      "text/plain": [
       "<Figure size 432x288 with 1 Axes>"
      ]
     },
     "metadata": {
      "needs_background": "light"
     },
     "output_type": "display_data"
    }
   ],
   "source": [
    "# %load euler-odeint.py\n",
    "#do euler.py solution for odeint\n",
    "from math import sin\n",
    "from numpy import arange\n",
    "from pylab import plot, xlabel, ylabel, show, legend\n",
    "from scipy.integrate import odeint\n",
    "\n",
    "def f(x,t):\n",
    "    return -x**3 + sin(t)\n",
    "\n",
    "a = 0.0           # Start of the interval\n",
    "b = 10.0          # End of the interval\n",
    "N = 1000          # Number of steps\n",
    "h = (b-a)/N       # Size of a single step\n",
    "x = 0.0           # Initial condition\n",
    "\n",
    "tpoints = arange(a,b,h)\n",
    "xpoints = []\n",
    "for t in tpoints:\n",
    "    xpoints.append(x)\n",
    "    x += h*f(x,t)\n",
    "\n",
    "#also solve by odeint\n",
    "x_new = odeint(func=f, y0=0, t=tpoints)\n",
    "\n",
    "plot(tpoints,xpoints)\n",
    "xlabel(\"t\")\n",
    "ylabel(\"x(t)\")\n",
    "plot(tpoints,x_new+0.2)\n",
    "legend(('Euler','odeint+0.2'))\n",
    "show()\n"
   ]
  },
  {
   "cell_type": "code",
   "execution_count": 6,
   "metadata": {
    "slideshow": {
     "slide_type": "subslide"
    }
   },
   "outputs": [
    {
     "ename": "NameError",
     "evalue": "name 'figure' is not defined",
     "output_type": "error",
     "traceback": [
      "\u001b[0;31m---------------------------------------------------------------------------\u001b[0m",
      "\u001b[0;31mNameError\u001b[0m                                 Traceback (most recent call last)",
      "\u001b[0;32m<ipython-input-6-ad8fb35d2069>\u001b[0m in \u001b[0;36m<module>\u001b[0;34m\u001b[0m\n\u001b[0;32m----> 1\u001b[0;31m \u001b[0mfigure\u001b[0m\u001b[0;34m(\u001b[0m\u001b[0;34m)\u001b[0m  \u001b[0;31m# NG\u001b[0m\u001b[0;34m\u001b[0m\u001b[0;34m\u001b[0m\u001b[0m\n\u001b[0m\u001b[1;32m      2\u001b[0m \u001b[0mplot\u001b[0m\u001b[0;34m(\u001b[0m\u001b[0mtpoints\u001b[0m\u001b[0;34m,\u001b[0m \u001b[0mxpoints\u001b[0m\u001b[0;34m,\u001b[0m \u001b[0mlabel\u001b[0m\u001b[0;34m=\u001b[0m\u001b[0;34m'Euler'\u001b[0m\u001b[0;34m)\u001b[0m\u001b[0;34m\u001b[0m\u001b[0;34m\u001b[0m\u001b[0m\n\u001b[1;32m      3\u001b[0m \u001b[0mxlabel\u001b[0m\u001b[0;34m(\u001b[0m\u001b[0;34m\"t\"\u001b[0m\u001b[0;34m)\u001b[0m\u001b[0;34m\u001b[0m\u001b[0;34m\u001b[0m\u001b[0m\n\u001b[1;32m      4\u001b[0m \u001b[0mylabel\u001b[0m\u001b[0;34m(\u001b[0m\u001b[0;34m\"x(t)\"\u001b[0m\u001b[0;34m)\u001b[0m\u001b[0;34m\u001b[0m\u001b[0;34m\u001b[0m\u001b[0m\n\u001b[1;32m      5\u001b[0m \u001b[0mplot\u001b[0m\u001b[0;34m(\u001b[0m\u001b[0mtpoints\u001b[0m\u001b[0;34m,\u001b[0m \u001b[0mx_new\u001b[0m\u001b[0;34m+\u001b[0m\u001b[0;36m0.2\u001b[0m\u001b[0;34m,\u001b[0m \u001b[0;34m'--'\u001b[0m\u001b[0;34m,\u001b[0m \u001b[0mlabel\u001b[0m\u001b[0;34m=\u001b[0m\u001b[0;34m'odeint+0.2'\u001b[0m\u001b[0;34m)\u001b[0m  \u001b[0;31m# PJK\u001b[0m\u001b[0;34m\u001b[0m\u001b[0;34m\u001b[0m\u001b[0m\n",
      "\u001b[0;31mNameError\u001b[0m: name 'figure' is not defined"
     ]
    }
   ],
   "source": [
    "figure()  # NG\n",
    "plot(tpoints, xpoints, label='Euler')\n",
    "xlabel(\"t\")\n",
    "ylabel(\"x(t)\")\n",
    "plot(tpoints, x_new+0.2, '--', label='odeint+0.2')  # PJK\n",
    "autoscale(enable=True, axis='x', tight=True)  # NG\n",
    "grid()  # NG\n",
    "legend()"
   ]
  },
  {
   "cell_type": "markdown",
   "metadata": {
    "slideshow": {
     "slide_type": "subslide"
    }
   },
   "source": [
    "* The Euler method has error $O(h^2)$ at each step (error $=O(h^2)$),\n",
    "* integrating across the whole interval: global error is $O(h)$ (see eqn. (8.8) of textbook):\n",
    "    $$\\text{Taylor expansion}\\Rightarrow x(t+h) = x(t) + h\\frac{dx}{dt} + \\overbrace{\\frac{h^2}{2}\\frac{d^2x}{dt^2}}^{\\epsilon} + O(h^3)$$\n",
    "    $$\\sum\\epsilon = \\sum_{k=0}^{N-1}\\frac{h^2}{2}\\left.\\frac{d^2x}{dt^2}\\right|_{x_k, t_k} = \\frac{h}{2}\\sum_{k=0}^{N-1}h\\left.\\frac{df}{dt}\\right|_{x_k, t_k}\\\\\n",
    "    \\approx \\frac{h}2\\int_a^b\\frac{df}{dt}dt = \\frac{h}{2}\\left[f_b - f_a\\right]$$\n",
    "* We can do better!"
   ]
  },
  {
   "cell_type": "markdown",
   "metadata": {
    "slideshow": {
     "slide_type": "slide"
    }
   },
   "source": [
    "# Runge-Kutta methods\n",
    "\n",
    "## 2nd-order Runge-Kutta (RK2) method"
   ]
  },
  {
   "cell_type": "markdown",
   "metadata": {
    "cell_style": "split",
    "slideshow": {
     "slide_type": "subslide"
    }
   },
   "source": [
    "![Newman's Fig. 8.2](fig8-2.png)"
   ]
  },
  {
   "cell_type": "markdown",
   "metadata": {
    "cell_style": "split",
    "slideshow": {
     "slide_type": "-"
    }
   },
   "source": [
    "* Use the middle point, $t+h/2$,\n",
    "* Evaluate with Euler's method, \n",
    "\n",
    "$\\quad\\displaystyle x\\left(t + \\frac{h}2\\right) \\approx x(t) + \\frac{h}2 f[x(t), t]$\n",
    "\n",
    "* Slope at $t + \\frac{h}2 \\approx f \\! \\left[ x(t) + \\frac{h}2 f\\left[x(t), t\\right], t + \\frac{h}2\\right]$\n",
    "\n",
    "$\\displaystyle \\Rightarrow \\boxed{x(t+h) = x(t) + h f\\! \\left[x(t) + \\frac{h}2 f[x(t), t], t+\\frac{h}2\\right]}$"
   ]
  },
  {
   "cell_type": "markdown",
   "metadata": {
    "slideshow": {
     "slide_type": "subslide"
    }
   },
   "source": [
    "RK2 usually coded by defining intermediate quantities:\n",
    "* $k_1 = hf(x, t)$ as preliminary step before $x(t+h/2)$,\n",
    "* $\\displaystyle k_2 = hf\\left(x + \\frac{k_1}{2}, t+\\frac{h}2\\right)$,\n",
    "* $x(t+h) = x(t) + k_2$.\n",
    "\n",
    "**RK2: $O(h^3)$ step-by-step error, usually $O(h^2)$ global error.**"
   ]
  },
  {
   "cell_type": "markdown",
   "metadata": {
    "slideshow": {
     "slide_type": "subslide"
    }
   },
   "source": [
    "Coding Euler:"
   ]
  },
  {
   "cell_type": "code",
   "execution_count": null,
   "metadata": {},
   "outputs": [],
   "source": [
    "for t in tpoints:\n",
    "    x += h*f(x, t)"
   ]
  },
  {
   "cell_type": "markdown",
   "metadata": {
    "slideshow": {
     "slide_type": "fragment"
    }
   },
   "source": [
    "Coding RK2:"
   ]
  },
  {
   "cell_type": "code",
   "execution_count": null,
   "metadata": {},
   "outputs": [],
   "source": [
    "for t in tpoints:\n",
    "    k1 = h*f(x, t)\n",
    "    k2 = h*f(x + 0.5*k1, t+0.5*h)\n",
    "    x += k2"
   ]
  },
  {
   "cell_type": "markdown",
   "metadata": {
    "slideshow": {
     "slide_type": "subslide"
    }
   },
   "source": [
    "## 4th-order Runge-Kutta method (RK4)\n",
    "\n",
    "* Perform various Taylor expansions at various points in the interval $\\Rightarrow$ higher-order RK's.\n",
    "* RK4 is usually a very good compromise to code oneself. Higher-order methods come in canned routines.\n",
    "* If Newman says the algebra is tedious, it has got to be.\n",
    "* End result:\n",
    "    * $k_1 = hf(x, t)$,\n",
    "    * $k_2 = hf\\left(x + \\frac{k_1}{2}, t+\\frac{h}2\\right)$,\n",
    "    * $k_3 = hf\\left(x + \\frac{k_2}{2}, t+\\frac{h}2\\right)$,\n",
    "    * $k_4 = hf\\left(x + k_3, t + h \\right)$,\n",
    "    * $x(t+h) = x(t) + \\frac{1}{6}(k_1 + 2 k_2 + 2k_3 + k_4)$."
   ]
  },
  {
   "cell_type": "markdown",
   "metadata": {
    "cell_style": "center",
    "slideshow": {
     "slide_type": "subslide"
    }
   },
   "source": [
    "Coding Euler:"
   ]
  },
  {
   "cell_type": "code",
   "execution_count": null,
   "metadata": {
    "cell_style": "center"
   },
   "outputs": [],
   "source": [
    "for t in tpoints:\n",
    "    x += h*f(x, t)"
   ]
  },
  {
   "cell_type": "markdown",
   "metadata": {
    "cell_style": "center"
   },
   "source": [
    "Coding RK2:"
   ]
  },
  {
   "cell_type": "code",
   "execution_count": null,
   "metadata": {
    "cell_style": "center"
   },
   "outputs": [],
   "source": [
    "for t in tpoints:\n",
    "    k1 = h*f(x, t)\n",
    "    k2 = h*f(x + 0.5*k1, t+0.5*h)\n",
    "    x += k2"
   ]
  },
  {
   "cell_type": "markdown",
   "metadata": {
    "cell_style": "center",
    "slideshow": {
     "slide_type": "fragment"
    }
   },
   "source": [
    "Coding RK4:"
   ]
  },
  {
   "cell_type": "code",
   "execution_count": null,
   "metadata": {
    "cell_style": "center"
   },
   "outputs": [],
   "source": [
    "for t in tpoints:\n",
    "    k1 = h*f(x, t)\n",
    "    k2 = h*f(x+0.5*k1, t+0.5*h)\n",
    "    k3 = h*f(x+0.5*k2, t+0.5*h)\n",
    "    k4 = h*f(x+k3, t+h)\n",
    "    x += (k1 + 2*k2 + 2*k3 + k4)/6"
   ]
  },
  {
   "cell_type": "markdown",
   "metadata": {
    "slideshow": {
     "slide_type": "fragment"
    }
   },
   "source": [
    "* RK4 carries $O(h^4)$ error globally,\n",
    "* Many small things to keep track of: easy to introduce a coding error!"
   ]
  },
  {
   "cell_type": "markdown",
   "metadata": {
    "slideshow": {
     "slide_type": "slide"
    }
   },
   "source": [
    "# Leapfrog methods"
   ]
  },
  {
   "cell_type": "markdown",
   "metadata": {
    "cell_style": "split",
    "slideshow": {
     "slide_type": "subslide"
    }
   },
   "source": [
    "* RK2: Use mid-point location as clutch to jump to $t+h$, and restart.\n",
    "\n",
    "$$ x(t+h) = x(t) + h f \\left[ x + \\frac{h}2 f(x, t), t+ \\frac{h}2 \\right] $$\n",
    "\n",
    "* Leapfrog: use each point as a mid-point.\n",
    "\n",
    "$$\\displaystyle x(t+h) = x(t) +  h f \\! \\left[ x + \\frac{h}2 f(x, t), t + \\frac{h}2 \\right],$$\n",
    "\n",
    "$$\\displaystyle x\\left(t+\\frac{3}{2}h\\right) = x\\left(t + \\frac{h}2\\right) + hf[x(t+h), t+h].$$"
   ]
  },
  {
   "cell_type": "markdown",
   "metadata": {
    "cell_style": "split",
    "slideshow": {
     "slide_type": "-"
    }
   },
   "source": [
    "![Newman's fig. 8.9](fig8-9.png)"
   ]
  },
  {
   "cell_type": "markdown",
   "metadata": {
    "slideshow": {
     "slide_type": "subslide"
    }
   },
   "source": [
    "* Also $O(h^2)$ global error,\n",
    "* Not RK4-able. Not trivially at least (cf. Yoshida algorithms).\n",
    "* So, is it just cute?"
   ]
  },
  {
   "cell_type": "markdown",
   "metadata": {
    "slideshow": {
     "slide_type": "fragment"
    }
   },
   "source": [
    "* No: it is **time-reversible**!\n",
    "* Emmy Noether (from Wikipedia):\n",
    "> If a system has a continuous symmetry property, then there are corresponding quantities whose values are conserved in time.\n",
    "* Invariance in time of the laws of Physics $\\Rightarrow$ conservation of energy.\n",
    "* **Leapfrog timestepping is reversible!**"
   ]
  },
  {
   "cell_type": "markdown",
   "metadata": {
    "cell_style": "split",
    "slideshow": {
     "slide_type": "subslide"
    }
   },
   "source": [
    "**Leapfrog timestepping is reversible!**\n",
    "\n",
    "Forward leapfrog:\n",
    "\n",
    "$x(t+h) = x(t) + hf\\left(x\\left(t + \\frac{h}2\\right), t+ \\frac{h}2\\right),$\n",
    "\n",
    "$x\\left(t+\\frac{3}{2}h\\right) = x\\left(t + \\frac{h}2\\right) + hf(x(t+h), t+h).$\n",
    "\n",
    "Backward Leapfrog: $h \\to -h$\n",
    "\n",
    "$x(t-h) = x(t) - hf\\left(x\\left(t - \\frac{h}2\\right), t - \\frac{h}2\\right),$\n",
    "\n",
    "$x\\left(t - \\frac{3}{2}h\\right) = x\\left(t - \\frac{h}2\\right) - hf(x(t-h), t-h).$\n",
    "\n",
    "Shift things in time (just to reveal the similarity): $t \\to t+3h/2$\n",
    "\n",
    "$x\\left(t+\\frac{h}2\\right) = x\\left(t + \\frac32 h\\right) - hf\\left(x\\left(t + h\\right), t + h\\right),$\n",
    "\n",
    "$x\\left(t\\right) = x\\left(t + h\\right) - hf\\left(x\\left(t+\\frac{h}2\\right), t+\\frac{h}2\\right).$"
   ]
  },
  {
   "cell_type": "markdown",
   "metadata": {
    "cell_style": "split",
    "slideshow": {
     "slide_type": "fragment"
    }
   },
   "source": [
    "**Doesn't work with RK2**\n",
    "\n",
    "Forward RK2:\n",
    "\n",
    "$x\\left(t + \\frac{h}2\\right) = x(t) + \\frac{h}2 f(x(t), t)$\n",
    "\n",
    "$x(t+h) = x(t) + h f\\left(x\\left(t + \\frac{h}{2}\\right), t+\\frac{h}2\\right)$\n",
    "\n",
    "Backward RK2: $h \\to -h$\n",
    "\n",
    "$x\\left(t - \\frac{h}2\\right) = x(t) - \\frac{h}2 f(x(t), t)$\n",
    "\n",
    "$x(t-h) = x(t) - h f\\left(x\\left(t - \\frac{h}2\\right), t-\\frac{h}2\\right)$\n",
    "\n",
    "Shift things in time (just to reveal the similarity): $t \\to t+h$\n",
    "\n",
    "$x\\left(t + \\frac{h}2\\right) = x\\left(t + h\\right) - \\frac{h}2 f\\left(x\\left(t + h\\right), t+h\\right)$\n",
    "\n",
    "$x\\left(t\\right) = x\\left(t + h\\right) - h f\\left(x\\left(t + \\frac{h}2\\right), t+\\frac{h}2\\right)$"
   ]
  },
  {
   "cell_type": "markdown",
   "metadata": {
    "cell_style": "split",
    "slideshow": {
     "slide_type": "subslide"
    }
   },
   "source": [
    "* Because everything gets \"reset\" at $t+h$, the info at the mid-point is lost and the RK2 reverse path is not a \"retracing of the steps\".\n",
    "* Graphically, reverse RK2 is not like drawing the arrows in reverse on the top panel of Newman's figure:"
   ]
  },
  {
   "cell_type": "markdown",
   "metadata": {
    "cell_style": "split",
    "slideshow": {
     "slide_type": "-"
    }
   },
   "source": [
    "![Newman's fig. 8.9](fig8-9.png)"
   ]
  },
  {
   "cell_type": "markdown",
   "metadata": {
    "slideshow": {
     "slide_type": "subslide"
    }
   },
   "source": [
    "**Energy of a nonlinear pendulum:**\n",
    "\n",
    "![Newman's Fig. 8.10](fig8-10.png)"
   ]
  },
  {
   "cell_type": "markdown",
   "metadata": {
    "slideshow": {
     "slide_type": "subslide"
    }
   },
   "source": [
    "# Leapfrog to Verlet"
   ]
  },
  {
   "cell_type": "markdown",
   "metadata": {},
   "source": [
    "* Leapfrog:\n",
    "$$x(t+h) = x(t) + h f \\! \\left[ x\\left(t + \\frac{h}2\\right), t+ \\frac{h}2\\right],$$\n",
    "$$x\\left(t+\\frac{3}{2}h\\right) = x\\left(t + \\frac{h}2\\right) + hf[x(t+h), t+h].$$\n",
    "\n",
    "* Extension to two (or $n$) coupled ODEs: cf. §§ 8.2, 8.3 in textbook.\n",
    "\n",
    "* Verlet is for the special case of two coupled ODEs, with LHS and RHS having separated variables. Like for Newton's 2nd law:\n",
    "$$\\frac{d^2 x}{dt^2} = \\frac{F(x, t)}m \\quad \\Rightarrow \\quad \\frac{dx}{dt} = v\\quad \\text{and}\\quad \\frac{dv}{dt} = \\frac{F(x, t)}{m}.$$\n",
    "1st ODE: $x$ on LHS, $v$ on RHS; 2nd ODE: $v$ on LHS, $x$ on RHS.\n",
    "\n",
    "* Verlet method:\n",
    "$$x(t+h) = x(t) + hv\\left(t+ \\frac{h}2\\right),$$\n",
    "$$v\\left(t+\\frac{3}{2}h\\right) = v\\left(t + \\frac{h}2\\right) + h\\frac{F(x(t+h), t+h)}m.$$"
   ]
  },
  {
   "cell_type": "markdown",
   "metadata": {
    "slideshow": {
     "slide_type": "subslide"
    }
   },
   "source": [
    "* Verlet is a 2-variable leapfrog method at 1/2 the cost.\n",
    "* It conserves energy too.\n",
    "* If diagnostics (like energy) are needed at specific time steps, we need to recompute the half-step quantities."
   ]
  },
  {
   "cell_type": "markdown",
   "metadata": {
    "slideshow": {
     "slide_type": "slide"
    }
   },
   "source": [
    "**RK2:**\n",
    "* $\\oplus$ Easily extended to RK4\n",
    "* $\\oplus$ Possible to use adaptive time step (see next week)\n",
    "* $\\ominus$ not time-reversible\n",
    "* $\\ominus$ not accurate\n",
    "\n",
    "**RK4:**\n",
    "* $\\oplus$ accuracy\n",
    "* $\\oplus$ Possible to use adaptive time step (see next week)\n",
    "* $\\ominus$ not time-reversible\n",
    "\n",
    "**Leapfrog:**\n",
    "* $\\oplus$ time-reversible\n",
    "* $\\oplus$ basis for higher-order methods (Bulirsch-Stoer, see next week)\n",
    "* $\\ominus$ not accurate\n",
    "* $\\ominus$ time step has to be constant."
   ]
  }
 ],
 "metadata": {
  "celltoolbar": "Slideshow",
  "kernelspec": {
   "display_name": "Python 3",
   "language": "python",
   "name": "python3"
  },
  "language_info": {
   "codemirror_mode": {
    "name": "ipython",
    "version": 3
   },
   "file_extension": ".py",
   "mimetype": "text/x-python",
   "name": "python",
   "nbconvert_exporter": "python",
   "pygments_lexer": "ipython3",
   "version": "3.8.3"
  }
 },
 "nbformat": 4,
 "nbformat_minor": 2
}
